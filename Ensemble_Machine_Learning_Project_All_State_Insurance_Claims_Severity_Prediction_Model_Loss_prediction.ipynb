{
 "cells": [
  {
   "cell_type": "markdown",
   "metadata": {
    "id": "M3ntPwhMyXGu"
   },
   "source": [
    "#### Script to Predict the output on new observations"
   ]
  },
  {
   "cell_type": "code",
   "execution_count": 31,
   "metadata": {
    "ExecuteTime": {
     "end_time": "2024-10-19T17:41:16.855347Z",
     "start_time": "2024-10-19T17:41:16.845348Z"
    },
    "colab": {
     "base_uri": "https://localhost:8080/"
    },
    "executionInfo": {
     "elapsed": 28888,
     "status": "ok",
     "timestamp": 1644231047668,
     "user": {
      "displayName": "Siddhi Jadhav",
      "photoUrl": "https://lh3.googleusercontent.com/a/default-user=s64",
      "userId": "08402691859170607175"
     },
     "user_tz": -330
    },
    "id": "QVMVMeGLyYRm",
    "outputId": "81baded5-7054-4001-fc05-38fca8d15e36"
   },
   "outputs": [],
   "source": [
    "# !pip install Flask==3.0.3\n",
    "# !pip install matplotlib==3.9.2\n",
    "# !pip install numpy==2.1.2\n",
    "# !pip install pandas==2.2.3\n",
    "# !pip install scikit_learn==1.5.2\n",
    "# !pip install seaborn==0.13.2"
   ]
  },
  {
   "cell_type": "code",
   "execution_count": 32,
   "metadata": {
    "ExecuteTime": {
     "end_time": "2024-10-20T01:29:25.657653Z",
     "start_time": "2024-10-20T01:29:25.642029Z"
    },
    "id": "VO80OBLFyXGy"
   },
   "outputs": [],
   "source": [
    "import pandas as pd\n",
    "import pickle\n",
    "import numpy as np\n",
    "\n",
    "pd.options.mode.copy_on_write = True "
   ]
  },
  {
   "cell_type": "code",
   "execution_count": 33,
   "metadata": {
    "ExecuteTime": {
     "end_time": "2024-10-20T01:29:25.687522Z",
     "start_time": "2024-10-20T01:29:25.673278Z"
    },
    "id": "SosDYfkY0kAx"
   },
   "outputs": [],
   "source": [
    "from zipfile import ZipFile\n",
    "import urllib.request\n",
    "from io import BytesIO"
   ]
  },
  {
   "cell_type": "code",
   "execution_count": 34,
   "metadata": {
    "ExecuteTime": {
     "end_time": "2024-10-20T01:32:27.888200Z",
     "start_time": "2024-10-20T01:32:27.851585Z"
    },
    "colab": {
     "base_uri": "https://localhost:8080/"
    },
    "executionInfo": {
     "elapsed": 1445,
     "status": "ok",
     "timestamp": 1644231390290,
     "user": {
      "displayName": "Siddhi Jadhav",
      "photoUrl": "https://lh3.googleusercontent.com/a/default-user=s64",
      "userId": "08402691859170607175"
     },
     "user_tz": -330
    },
    "id": "62FLIWX-0afe",
    "outputId": "204e79fa-46a4-47f3-a8ea-5a39f50e4427"
   },
   "outputs": [
    {
     "data": {
      "text/plain": [
       "['test.csv',\n",
       " '__MACOSX/',\n",
       " '__MACOSX/._test.csv',\n",
       " 'train.csv',\n",
       " '__MACOSX/._train.csv',\n",
       " 'test_data_subset.csv',\n",
       " '__MACOSX/._test_data_subset.csv']"
      ]
     },
     "execution_count": 34,
     "metadata": {},
     "output_type": "execute_result"
    }
   ],
   "source": [
    "# folder = urllib.request.urlopen('https://s3.amazonaws.com/hackerday.datascience/50/dataset.zip')\n",
    "with open('data/dataset.zip', 'rb') as folder:\n",
    "    zipfile = ZipFile(BytesIO(folder.read()))\n",
    "\n",
    "zipfile.namelist()"
   ]
  },
  {
   "cell_type": "code",
   "execution_count": 35,
   "metadata": {
    "ExecuteTime": {
     "end_time": "2024-10-20T01:32:34.070219Z",
     "start_time": "2024-10-20T01:32:33.616110Z"
    },
    "id": "EIxay4Mkyt8L"
   },
   "outputs": [],
   "source": [
    "test_data = pd.read_csv(zipfile.open(\"test_data_subset.csv\"))    "
   ]
  },
  {
   "cell_type": "code",
   "execution_count": 36,
   "metadata": {
    "ExecuteTime": {
     "end_time": "2024-10-20T01:32:36.615996Z",
     "start_time": "2024-10-20T01:32:36.002066Z"
    },
    "id": "k5txcfSgyXG0"
   },
   "outputs": [],
   "source": [
    "#load the columns to drop file\n",
    "columns_to_drop=pd.read_csv(\"data/columns_to_drop.csv\")\n",
    "columns_to_Retain = list(set(test_data.columns.values) - set(columns_to_drop.colnames.values))\n",
    "test_data = test_data[columns_to_Retain]\n",
    "\n",
    "column_datatypes = test_data.dtypes\n",
    "categorical_columns = list(column_datatypes[column_datatypes==\"object\"].index.values)"
   ]
  },
  {
   "cell_type": "code",
   "execution_count": 37,
   "metadata": {
    "ExecuteTime": {
     "end_time": "2024-10-19T17:42:08.918619Z",
     "start_time": "2024-10-19T17:42:08.880590Z"
    },
    "id": "DrD5BtwRyXG0"
   },
   "outputs": [],
   "source": [
    "#Transfor the categorical columns by loading the fit encodings on training data\n",
    "\n",
    "for cf1 in categorical_columns:\n",
    "    filename = cf1+\".sav\"\n",
    "    le = pickle.load(open(filename, 'rb'))\n",
    "    \n",
    "    #if an new classes is observed, set it to the 0 class\n",
    "    le_dict = dict(zip(le.classes_, le.transform(le.classes_)))\n",
    "    test_data[cf1]=test_data[cf1].apply(lambda x: le_dict.get(x, -1))"
   ]
  },
  {
   "cell_type": "code",
   "execution_count": 38,
   "metadata": {
    "ExecuteTime": {
     "end_time": "2024-10-19T17:42:08.965505Z",
     "start_time": "2024-10-19T17:42:08.949885Z"
    },
    "id": "4X1ogbjUyXG1"
   },
   "outputs": [],
   "source": [
    "test_data_id = test_data['id']\n",
    "test_data = test_data.drop('id',axis=1)"
   ]
  },
  {
   "cell_type": "code",
   "execution_count": 39,
   "metadata": {
    "ExecuteTime": {
     "end_time": "2024-10-19T17:42:09.041618Z",
     "start_time": "2024-10-19T17:42:09.003761Z"
    },
    "id": "Ku_8cFJkyXG1"
   },
   "outputs": [],
   "source": [
    "Column_datatypes= test_data.dtypes\n",
    "Integer_columns = list(Column_datatypes.where(lambda x: x ==\"int64\").dropna().index.values)\n",
    "#convert the int64 columns categorical\n",
    "test_data[Integer_columns] = test_data[Integer_columns].astype('category',copy=False)"
   ]
  },
  {
   "cell_type": "code",
   "execution_count": 40,
   "metadata": {
    "ExecuteTime": {
     "end_time": "2024-10-19T17:42:09.140511Z",
     "start_time": "2024-10-19T17:42:09.072969Z"
    },
    "id": "Bv89GhHXyXG2"
   },
   "outputs": [],
   "source": [
    "#load the saved model and predict on the test data\n",
    "tunedmodel_rf = pickle.load(open(\"trained_models/tunedmodel_rf\", 'rb'))"
   ]
  },
  {
   "cell_type": "code",
   "execution_count": 41,
   "metadata": {
    "ExecuteTime": {
     "end_time": "2024-10-19T17:42:09.209215Z",
     "start_time": "2024-10-19T17:42:09.187533Z"
    }
   },
   "outputs": [
    {
     "name": "stdout",
     "output_type": "stream",
     "text": [
      "Expected features: ['cat1' 'cat15' 'cat22' 'cat32' 'cat73' 'cat75' 'cat77' 'cat88' 'cat89'\n",
      " 'cat90' 'cat93' 'cat94' 'cat95' 'cat96' 'cat99' 'cat100' 'cat101'\n",
      " 'cat102' 'cat103' 'cat104' 'cat105' 'cat108' 'cat109' 'cat110' 'cat112'\n",
      " 'cat113' 'cat115' 'cat116' 'cont1' 'cont2' 'cont3' 'cont4' 'cont5'\n",
      " 'cont7' 'cont8' 'cont9' 'cont11' 'cont13' 'cont14']\n"
     ]
    }
   ],
   "source": [
    "expected_features = tunedmodel_rf.feature_names_in_\n",
    "array = np.array(expected_features)\n",
    "print(\"Expected features:\", array)"
   ]
  },
  {
   "cell_type": "code",
   "execution_count": 42,
   "metadata": {
    "ExecuteTime": {
     "end_time": "2024-10-19T17:42:09.302965Z",
     "start_time": "2024-10-19T17:42:09.287338Z"
    }
   },
   "outputs": [
    {
     "data": {
      "text/plain": [
       "Index(['cat1', 'cat15', 'cat22', 'cat32', 'cat73', 'cat75', 'cat77', 'cat88',\n",
       "       'cat89', 'cat90', 'cat93', 'cat94', 'cat95', 'cat96', 'cat99', 'cat100',\n",
       "       'cat101', 'cat102', 'cat103', 'cat104', 'cat105', 'cat108', 'cat109',\n",
       "       'cat110', 'cat112', 'cat113', 'cat115', 'cat116', 'cont1', 'cont2',\n",
       "       'cont3', 'cont4', 'cont5', 'cont7', 'cont8', 'cont9', 'cont11',\n",
       "       'cont13', 'cont14'],\n",
       "      dtype='object')"
      ]
     },
     "execution_count": 42,
     "metadata": {},
     "output_type": "execute_result"
    }
   ],
   "source": [
    "test_data = test_data.reindex(array, axis=1)\n",
    "test_data.columns"
   ]
  },
  {
   "cell_type": "code",
   "execution_count": 43,
   "metadata": {},
   "outputs": [
    {
     "data": {
      "text/html": [
       "<div>\n",
       "<style scoped>\n",
       "    .dataframe tbody tr th:only-of-type {\n",
       "        vertical-align: middle;\n",
       "    }\n",
       "\n",
       "    .dataframe tbody tr th {\n",
       "        vertical-align: top;\n",
       "    }\n",
       "\n",
       "    .dataframe thead th {\n",
       "        text-align: right;\n",
       "    }\n",
       "</style>\n",
       "<table border=\"1\" class=\"dataframe\">\n",
       "  <thead>\n",
       "    <tr style=\"text-align: right;\">\n",
       "      <th></th>\n",
       "      <th>cat1</th>\n",
       "      <th>cat15</th>\n",
       "      <th>cat22</th>\n",
       "      <th>cat32</th>\n",
       "      <th>cat73</th>\n",
       "      <th>cat75</th>\n",
       "      <th>cat77</th>\n",
       "      <th>cat88</th>\n",
       "      <th>cat89</th>\n",
       "      <th>cat90</th>\n",
       "      <th>...</th>\n",
       "      <th>cont2</th>\n",
       "      <th>cont3</th>\n",
       "      <th>cont4</th>\n",
       "      <th>cont5</th>\n",
       "      <th>cont7</th>\n",
       "      <th>cont8</th>\n",
       "      <th>cont9</th>\n",
       "      <th>cont11</th>\n",
       "      <th>cont13</th>\n",
       "      <th>cont14</th>\n",
       "    </tr>\n",
       "  </thead>\n",
       "  <tbody>\n",
       "    <tr>\n",
       "      <th>0</th>\n",
       "      <td>0</td>\n",
       "      <td>0</td>\n",
       "      <td>0</td>\n",
       "      <td>0</td>\n",
       "      <td>0</td>\n",
       "      <td>0</td>\n",
       "      <td>3</td>\n",
       "      <td>0</td>\n",
       "      <td>0</td>\n",
       "      <td>0</td>\n",
       "      <td>...</td>\n",
       "      <td>0.299102</td>\n",
       "      <td>0.246911</td>\n",
       "      <td>0.402922</td>\n",
       "      <td>0.281143</td>\n",
       "      <td>0.317681</td>\n",
       "      <td>0.61229</td>\n",
       "      <td>0.34365</td>\n",
       "      <td>0.377724</td>\n",
       "      <td>0.704052</td>\n",
       "      <td>0.392562</td>\n",
       "    </tr>\n",
       "    <tr>\n",
       "      <th>1</th>\n",
       "      <td>0</td>\n",
       "      <td>0</td>\n",
       "      <td>0</td>\n",
       "      <td>0</td>\n",
       "      <td>0</td>\n",
       "      <td>1</td>\n",
       "      <td>3</td>\n",
       "      <td>0</td>\n",
       "      <td>0</td>\n",
       "      <td>0</td>\n",
       "      <td>...</td>\n",
       "      <td>0.620805</td>\n",
       "      <td>0.654310</td>\n",
       "      <td>0.946616</td>\n",
       "      <td>0.836443</td>\n",
       "      <td>0.443760</td>\n",
       "      <td>0.71330</td>\n",
       "      <td>0.51890</td>\n",
       "      <td>0.689039</td>\n",
       "      <td>0.453468</td>\n",
       "      <td>0.208045</td>\n",
       "    </tr>\n",
       "    <tr>\n",
       "      <th>2</th>\n",
       "      <td>0</td>\n",
       "      <td>0</td>\n",
       "      <td>0</td>\n",
       "      <td>0</td>\n",
       "      <td>0</td>\n",
       "      <td>0</td>\n",
       "      <td>3</td>\n",
       "      <td>0</td>\n",
       "      <td>1</td>\n",
       "      <td>0</td>\n",
       "      <td>...</td>\n",
       "      <td>0.737068</td>\n",
       "      <td>0.711159</td>\n",
       "      <td>0.412789</td>\n",
       "      <td>0.718531</td>\n",
       "      <td>0.325779</td>\n",
       "      <td>0.29758</td>\n",
       "      <td>0.34365</td>\n",
       "      <td>0.245410</td>\n",
       "      <td>0.258586</td>\n",
       "      <td>0.297232</td>\n",
       "    </tr>\n",
       "    <tr>\n",
       "      <th>3</th>\n",
       "      <td>0</td>\n",
       "      <td>0</td>\n",
       "      <td>0</td>\n",
       "      <td>0</td>\n",
       "      <td>0</td>\n",
       "      <td>0</td>\n",
       "      <td>3</td>\n",
       "      <td>0</td>\n",
       "      <td>0</td>\n",
       "      <td>0</td>\n",
       "      <td>...</td>\n",
       "      <td>0.681761</td>\n",
       "      <td>0.592681</td>\n",
       "      <td>0.354893</td>\n",
       "      <td>0.397069</td>\n",
       "      <td>0.342355</td>\n",
       "      <td>0.40028</td>\n",
       "      <td>0.33237</td>\n",
       "      <td>0.348867</td>\n",
       "      <td>0.592264</td>\n",
       "      <td>0.555955</td>\n",
       "    </tr>\n",
       "    <tr>\n",
       "      <th>4</th>\n",
       "      <td>1</td>\n",
       "      <td>0</td>\n",
       "      <td>0</td>\n",
       "      <td>0</td>\n",
       "      <td>0</td>\n",
       "      <td>0</td>\n",
       "      <td>3</td>\n",
       "      <td>0</td>\n",
       "      <td>0</td>\n",
       "      <td>0</td>\n",
       "      <td>...</td>\n",
       "      <td>0.299102</td>\n",
       "      <td>0.263570</td>\n",
       "      <td>0.696873</td>\n",
       "      <td>0.302678</td>\n",
       "      <td>0.391833</td>\n",
       "      <td>0.23688</td>\n",
       "      <td>0.43731</td>\n",
       "      <td>0.359572</td>\n",
       "      <td>0.301535</td>\n",
       "      <td>0.825823</td>\n",
       "    </tr>\n",
       "  </tbody>\n",
       "</table>\n",
       "<p>5 rows × 39 columns</p>\n",
       "</div>"
      ],
      "text/plain": [
       "  cat1 cat15 cat22 cat32 cat73 cat75 cat77 cat88 cat89 cat90  ...     cont2  \\\n",
       "0    0     0     0     0     0     0     3     0     0     0  ...  0.299102   \n",
       "1    0     0     0     0     0     1     3     0     0     0  ...  0.620805   \n",
       "2    0     0     0     0     0     0     3     0     1     0  ...  0.737068   \n",
       "3    0     0     0     0     0     0     3     0     0     0  ...  0.681761   \n",
       "4    1     0     0     0     0     0     3     0     0     0  ...  0.299102   \n",
       "\n",
       "      cont3     cont4     cont5     cont7    cont8    cont9    cont11  \\\n",
       "0  0.246911  0.402922  0.281143  0.317681  0.61229  0.34365  0.377724   \n",
       "1  0.654310  0.946616  0.836443  0.443760  0.71330  0.51890  0.689039   \n",
       "2  0.711159  0.412789  0.718531  0.325779  0.29758  0.34365  0.245410   \n",
       "3  0.592681  0.354893  0.397069  0.342355  0.40028  0.33237  0.348867   \n",
       "4  0.263570  0.696873  0.302678  0.391833  0.23688  0.43731  0.359572   \n",
       "\n",
       "     cont13    cont14  \n",
       "0  0.704052  0.392562  \n",
       "1  0.453468  0.208045  \n",
       "2  0.258586  0.297232  \n",
       "3  0.592264  0.555955  \n",
       "4  0.301535  0.825823  \n",
       "\n",
       "[5 rows x 39 columns]"
      ]
     },
     "execution_count": 43,
     "metadata": {},
     "output_type": "execute_result"
    }
   ],
   "source": [
    "test_data"
   ]
  },
  {
   "cell_type": "code",
   "execution_count": 29,
   "metadata": {
    "ExecuteTime": {
     "end_time": "2024-10-19T17:42:09.437792Z",
     "start_time": "2024-10-19T17:42:09.396712Z"
    },
    "id": "fLN64m5ZyXG2"
   },
   "outputs": [],
   "source": [
    "Y_test_predict = tunedmodel_rf.predict(test_data)\n",
    "test_data['predict_loss']=Y_test_predict\n",
    "test_data['id']=test_data_id\n",
    "test_data = test_data[['id','predict_loss']]"
   ]
  },
  {
   "cell_type": "code",
   "execution_count": 30,
   "metadata": {
    "ExecuteTime": {
     "end_time": "2024-10-19T17:42:09.485483Z",
     "start_time": "2024-10-19T17:42:09.469975Z"
    },
    "id": "GRSkCUtNyXG3",
    "outputId": "8665e437-9613-410c-cc18-8a0d4dd05887"
   },
   "outputs": [
    {
     "data": {
      "text/html": [
       "<div>\n",
       "<style scoped>\n",
       "    .dataframe tbody tr th:only-of-type {\n",
       "        vertical-align: middle;\n",
       "    }\n",
       "\n",
       "    .dataframe tbody tr th {\n",
       "        vertical-align: top;\n",
       "    }\n",
       "\n",
       "    .dataframe thead th {\n",
       "        text-align: right;\n",
       "    }\n",
       "</style>\n",
       "<table border=\"1\" class=\"dataframe\">\n",
       "  <thead>\n",
       "    <tr style=\"text-align: right;\">\n",
       "      <th></th>\n",
       "      <th>id</th>\n",
       "      <th>predict_loss</th>\n",
       "    </tr>\n",
       "  </thead>\n",
       "  <tbody>\n",
       "    <tr>\n",
       "      <th>0</th>\n",
       "      <td>4</td>\n",
       "      <td>7.791687</td>\n",
       "    </tr>\n",
       "    <tr>\n",
       "      <th>1</th>\n",
       "      <td>6</td>\n",
       "      <td>7.679563</td>\n",
       "    </tr>\n",
       "    <tr>\n",
       "      <th>2</th>\n",
       "      <td>9</td>\n",
       "      <td>9.015090</td>\n",
       "    </tr>\n",
       "    <tr>\n",
       "      <th>3</th>\n",
       "      <td>12</td>\n",
       "      <td>8.160236</td>\n",
       "    </tr>\n",
       "    <tr>\n",
       "      <th>4</th>\n",
       "      <td>15</td>\n",
       "      <td>7.049665</td>\n",
       "    </tr>\n",
       "  </tbody>\n",
       "</table>\n",
       "</div>"
      ],
      "text/plain": [
       "   id  predict_loss\n",
       "0   4      7.791687\n",
       "1   6      7.679563\n",
       "2   9      9.015090\n",
       "3  12      8.160236\n",
       "4  15      7.049665"
      ]
     },
     "execution_count": 30,
     "metadata": {},
     "output_type": "execute_result"
    }
   ],
   "source": [
    "test_data"
   ]
  },
  {
   "cell_type": "code",
   "execution_count": null,
   "metadata": {},
   "outputs": [],
   "source": []
  }
 ],
 "metadata": {
  "colab": {
   "collapsed_sections": [],
   "name": "Ensemble_Machine_Learning_Project_All_State_Insurance_Claims_Severity_Prediction_Model_Loss_prediction.ipynb",
   "provenance": []
  },
  "kernelspec": {
   "display_name": "Python 3 (ipykernel)",
   "language": "python",
   "name": "python3"
  },
  "language_info": {
   "codemirror_mode": {
    "name": "ipython",
    "version": 3
   },
   "file_extension": ".py",
   "mimetype": "text/x-python",
   "name": "python",
   "nbconvert_exporter": "python",
   "pygments_lexer": "ipython3",
   "version": "3.10.11"
  }
 },
 "nbformat": 4,
 "nbformat_minor": 4
}
