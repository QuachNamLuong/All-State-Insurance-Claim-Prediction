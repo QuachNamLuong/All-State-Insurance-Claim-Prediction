{
 "cells": [
  {
   "cell_type": "markdown",
   "metadata": {
    "id": "f6G7jpoW1OV-"
   },
   "source": [
    "# All State Insurance Claim Prediction"
   ]
  },
  {
   "cell_type": "markdown",
   "metadata": {
    "id": "Z6ITI4Kh1OWB"
   },
   "source": [
    "### The notebook is intended to cover the following concepts"
   ]
  },
  {
   "cell_type": "markdown",
   "metadata": {
    "id": "W_e7nbiu1OWB"
   },
   "source": [
    "<ul>\n",
    "<li>Business problem</li>\n",
    "<li>Dataset overview</li>\n",
    "<li>Exploratory data analysis</li>\n",
    "<li>Data cleaning and Pre-Processing</li>\n",
    "<li>Outlier treatment</li>\n",
    "<li>Feature selection techniques</li>\n",
    "<li>Machine learning models</li>\n",
    "<li>Hyperparameter tuning</li>\n",
    "<li>Model validation</li>\n",
    "<li>Deployment using Flask API</li>\n",
    "</ul>"
   ]
  },
  {
   "cell_type": "markdown",
   "metadata": {
    "id": "2UwmSbTM1OWC"
   },
   "source": [
    "***"
   ]
  },
  {
   "cell_type": "markdown",
   "metadata": {
    "id": "92twhzJ81OWC"
   },
   "source": [
    "##### Import the packages and load the training data"
   ]
  },
  {
   "cell_type": "code",
   "execution_count": 1,
   "metadata": {
    "ExecuteTime": {
     "end_time": "2024-10-19T16:34:21.757080Z",
     "start_time": "2024-10-19T16:32:00.637678Z"
    },
    "colab": {
     "base_uri": "https://localhost:8080/"
    },
    "executionInfo": {
     "elapsed": 20174,
     "status": "ok",
     "timestamp": 1644231785930,
     "user": {
      "displayName": "Siddhi Jadhav",
      "photoUrl": "https://lh3.googleusercontent.com/a/default-user=s64",
      "userId": "08402691859170607175"
     },
     "user_tz": -330
    },
    "id": "gZVM6lDm1n1-",
    "outputId": "825dbb30-7fa4-4f25-cdb9-29d94f17fe63"
   },
   "outputs": [],
   "source": [
    "# !pip install Flask==3.0.3\n",
    "# !pip install matplotlib==3.9.2\n",
    "# !pip install numpy==2.1.2\n",
    "# !pip install pandas==2.2.3\n",
    "# !pip install scikit_learn==1.5.2\n",
    "# !pip install seaborn==0.13.2"
   ]
  },
  {
   "cell_type": "code",
   "execution_count": 2,
   "metadata": {
    "ExecuteTime": {
     "end_time": "2024-10-20T01:34:03.475771Z",
     "start_time": "2024-10-20T01:34:01.603770Z"
    },
    "id": "8il-c0uL1OWC"
   },
   "outputs": [],
   "source": [
    "import pandas as pd\n",
    "import numpy as np\n",
    "import re\n",
    "import matplotlib.pyplot as plt\n",
    "from sklearn.impute import SimpleImputer\n",
    "import seaborn as sns\n",
    "from sklearn.feature_selection import VarianceThreshold\n",
    "from sklearn.preprocessing import LabelEncoder\n",
    "from sklearn.feature_selection import chi2\n",
    "import math\n",
    "import pickle\n",
    "\n",
    "#modify the display options to view entire dataframe\n",
    "pd.options.display.max_columns = None\n",
    "\n",
    "from zipfile import ZipFile\n",
    "import urllib.request\n",
    "from io import BytesIO"
   ]
  },
  {
   "cell_type": "code",
   "execution_count": 3,
   "metadata": {
    "ExecuteTime": {
     "end_time": "2024-10-20T01:34:23.696663Z",
     "start_time": "2024-10-20T01:34:23.648882Z"
    }
   },
   "outputs": [
    {
     "data": {
      "text/plain": [
       "['test.csv',\n",
       " '__MACOSX/',\n",
       " '__MACOSX/._test.csv',\n",
       " 'train.csv',\n",
       " '__MACOSX/._train.csv',\n",
       " 'test_data_subset.csv',\n",
       " '__MACOSX/._test_data_subset.csv']"
      ]
     },
     "execution_count": 3,
     "metadata": {},
     "output_type": "execute_result"
    }
   ],
   "source": [
    "# folder = urllib.request.urlopen('https://s3.amazonaws.com/hackerday.datascience/50/dataset.zip')\n",
    "with open('data/dataset.zip', 'rb') as folder:\n",
    "    zipfile = ZipFile(BytesIO(folder.read()))\n",
    "\n",
    "zipfile.namelist()"
   ]
  },
  {
   "cell_type": "code",
   "execution_count": 4,
   "metadata": {
    "ExecuteTime": {
     "end_time": "2024-10-20T01:34:54.514991Z",
     "start_time": "2024-10-20T01:34:50.033885Z"
    },
    "id": "Dcr0POy-1OWD"
   },
   "outputs": [],
   "source": [
    "train_data = pd.read_csv(zipfile.open(\"train.csv\"))    "
   ]
  },
  {
   "cell_type": "markdown",
   "metadata": {
    "id": "excPz8fF1OWE"
   },
   "source": [
    "##### Do the following:\n",
    "<ul>\n",
    "<li>Analyze the size of training data</li>\n",
    "<li>Verify the first few observations</li>\n",
    "<li>Check the column headers</li>\n",
    "</ul>"
   ]
  },
  {
   "cell_type": "code",
   "execution_count": 5,
   "metadata": {
    "ExecuteTime": {
     "end_time": "2024-10-20T01:34:58.218241Z",
     "start_time": "2024-10-20T01:34:58.186989Z"
    },
    "colab": {
     "base_uri": "https://localhost:8080/"
    },
    "executionInfo": {
     "elapsed": 361,
     "status": "ok",
     "timestamp": 1644231856253,
     "user": {
      "displayName": "Siddhi Jadhav",
      "photoUrl": "https://lh3.googleusercontent.com/a/default-user=s64",
      "userId": "08402691859170607175"
     },
     "user_tz": -330
    },
    "id": "r63jXAJI1OWF",
    "outputId": "3af543df-8ce6-4c74-d2fb-630216227397"
   },
   "outputs": [
    {
     "data": {
      "text/plain": [
       "(188318, 132)"
      ]
     },
     "execution_count": 5,
     "metadata": {},
     "output_type": "execute_result"
    }
   ],
   "source": [
    "train_data.shape"
   ]
  },
  {
   "cell_type": "code",
   "execution_count": 6,
   "metadata": {
    "ExecuteTime": {
     "end_time": "2024-10-20T01:35:01.712778Z",
     "start_time": "2024-10-20T01:35:01.540910Z"
    },
    "colab": {
     "base_uri": "https://localhost:8080/",
     "height": 270
    },
    "executionInfo": {
     "elapsed": 736,
     "status": "ok",
     "timestamp": 1644231857678,
     "user": {
      "displayName": "Siddhi Jadhav",
      "photoUrl": "https://lh3.googleusercontent.com/a/default-user=s64",
      "userId": "08402691859170607175"
     },
     "user_tz": -330
    },
    "id": "t7K4pmlL1OWG",
    "outputId": "9c716e52-a3c0-4c5f-ac58-9ca88197983a"
   },
   "outputs": [
    {
     "data": {
      "text/html": [
       "<div>\n",
       "<style scoped>\n",
       "    .dataframe tbody tr th:only-of-type {\n",
       "        vertical-align: middle;\n",
       "    }\n",
       "\n",
       "    .dataframe tbody tr th {\n",
       "        vertical-align: top;\n",
       "    }\n",
       "\n",
       "    .dataframe thead th {\n",
       "        text-align: right;\n",
       "    }\n",
       "</style>\n",
       "<table border=\"1\" class=\"dataframe\">\n",
       "  <thead>\n",
       "    <tr style=\"text-align: right;\">\n",
       "      <th></th>\n",
       "      <th>id</th>\n",
       "      <th>cat1</th>\n",
       "      <th>cat2</th>\n",
       "      <th>cat3</th>\n",
       "      <th>cat4</th>\n",
       "      <th>cat5</th>\n",
       "      <th>cat6</th>\n",
       "      <th>cat7</th>\n",
       "      <th>cat8</th>\n",
       "      <th>cat9</th>\n",
       "      <th>cat10</th>\n",
       "      <th>cat11</th>\n",
       "      <th>cat12</th>\n",
       "      <th>cat13</th>\n",
       "      <th>cat14</th>\n",
       "      <th>cat15</th>\n",
       "      <th>cat16</th>\n",
       "      <th>cat17</th>\n",
       "      <th>cat18</th>\n",
       "      <th>cat19</th>\n",
       "      <th>cat20</th>\n",
       "      <th>cat21</th>\n",
       "      <th>cat22</th>\n",
       "      <th>cat23</th>\n",
       "      <th>cat24</th>\n",
       "      <th>cat25</th>\n",
       "      <th>cat26</th>\n",
       "      <th>cat27</th>\n",
       "      <th>cat28</th>\n",
       "      <th>cat29</th>\n",
       "      <th>cat30</th>\n",
       "      <th>cat31</th>\n",
       "      <th>cat32</th>\n",
       "      <th>cat33</th>\n",
       "      <th>cat34</th>\n",
       "      <th>cat35</th>\n",
       "      <th>cat36</th>\n",
       "      <th>cat37</th>\n",
       "      <th>cat38</th>\n",
       "      <th>cat39</th>\n",
       "      <th>cat40</th>\n",
       "      <th>cat41</th>\n",
       "      <th>cat42</th>\n",
       "      <th>cat43</th>\n",
       "      <th>cat44</th>\n",
       "      <th>cat45</th>\n",
       "      <th>cat46</th>\n",
       "      <th>cat47</th>\n",
       "      <th>cat48</th>\n",
       "      <th>cat49</th>\n",
       "      <th>cat50</th>\n",
       "      <th>cat51</th>\n",
       "      <th>cat52</th>\n",
       "      <th>cat53</th>\n",
       "      <th>cat54</th>\n",
       "      <th>cat55</th>\n",
       "      <th>cat56</th>\n",
       "      <th>cat57</th>\n",
       "      <th>cat58</th>\n",
       "      <th>cat59</th>\n",
       "      <th>cat60</th>\n",
       "      <th>cat61</th>\n",
       "      <th>cat62</th>\n",
       "      <th>cat63</th>\n",
       "      <th>cat64</th>\n",
       "      <th>cat65</th>\n",
       "      <th>cat66</th>\n",
       "      <th>cat67</th>\n",
       "      <th>cat68</th>\n",
       "      <th>cat69</th>\n",
       "      <th>cat70</th>\n",
       "      <th>cat71</th>\n",
       "      <th>cat72</th>\n",
       "      <th>cat73</th>\n",
       "      <th>cat74</th>\n",
       "      <th>cat75</th>\n",
       "      <th>cat76</th>\n",
       "      <th>cat77</th>\n",
       "      <th>cat78</th>\n",
       "      <th>cat79</th>\n",
       "      <th>cat80</th>\n",
       "      <th>cat81</th>\n",
       "      <th>cat82</th>\n",
       "      <th>cat83</th>\n",
       "      <th>cat84</th>\n",
       "      <th>cat85</th>\n",
       "      <th>cat86</th>\n",
       "      <th>cat87</th>\n",
       "      <th>cat88</th>\n",
       "      <th>cat89</th>\n",
       "      <th>cat90</th>\n",
       "      <th>cat91</th>\n",
       "      <th>cat92</th>\n",
       "      <th>cat93</th>\n",
       "      <th>cat94</th>\n",
       "      <th>cat95</th>\n",
       "      <th>cat96</th>\n",
       "      <th>cat97</th>\n",
       "      <th>cat98</th>\n",
       "      <th>cat99</th>\n",
       "      <th>cat100</th>\n",
       "      <th>cat101</th>\n",
       "      <th>cat102</th>\n",
       "      <th>cat103</th>\n",
       "      <th>cat104</th>\n",
       "      <th>cat105</th>\n",
       "      <th>cat106</th>\n",
       "      <th>cat107</th>\n",
       "      <th>cat108</th>\n",
       "      <th>cat109</th>\n",
       "      <th>cat110</th>\n",
       "      <th>cat111</th>\n",
       "      <th>cat112</th>\n",
       "      <th>cat113</th>\n",
       "      <th>cat114</th>\n",
       "      <th>cat115</th>\n",
       "      <th>cat116</th>\n",
       "      <th>cont1</th>\n",
       "      <th>cont2</th>\n",
       "      <th>cont3</th>\n",
       "      <th>cont4</th>\n",
       "      <th>cont5</th>\n",
       "      <th>cont6</th>\n",
       "      <th>cont7</th>\n",
       "      <th>cont8</th>\n",
       "      <th>cont9</th>\n",
       "      <th>cont10</th>\n",
       "      <th>cont11</th>\n",
       "      <th>cont12</th>\n",
       "      <th>cont13</th>\n",
       "      <th>cont14</th>\n",
       "      <th>loss</th>\n",
       "    </tr>\n",
       "  </thead>\n",
       "  <tbody>\n",
       "    <tr>\n",
       "      <th>0</th>\n",
       "      <td>1</td>\n",
       "      <td>A</td>\n",
       "      <td>B</td>\n",
       "      <td>A</td>\n",
       "      <td>B</td>\n",
       "      <td>A</td>\n",
       "      <td>A</td>\n",
       "      <td>A</td>\n",
       "      <td>A</td>\n",
       "      <td>B</td>\n",
       "      <td>A</td>\n",
       "      <td>B</td>\n",
       "      <td>A</td>\n",
       "      <td>A</td>\n",
       "      <td>A</td>\n",
       "      <td>A</td>\n",
       "      <td>A</td>\n",
       "      <td>A</td>\n",
       "      <td>A</td>\n",
       "      <td>A</td>\n",
       "      <td>A</td>\n",
       "      <td>A</td>\n",
       "      <td>A</td>\n",
       "      <td>B</td>\n",
       "      <td>A</td>\n",
       "      <td>A</td>\n",
       "      <td>A</td>\n",
       "      <td>A</td>\n",
       "      <td>A</td>\n",
       "      <td>A</td>\n",
       "      <td>A</td>\n",
       "      <td>A</td>\n",
       "      <td>A</td>\n",
       "      <td>A</td>\n",
       "      <td>A</td>\n",
       "      <td>A</td>\n",
       "      <td>A</td>\n",
       "      <td>A</td>\n",
       "      <td>A</td>\n",
       "      <td>A</td>\n",
       "      <td>A</td>\n",
       "      <td>A</td>\n",
       "      <td>A</td>\n",
       "      <td>A</td>\n",
       "      <td>A</td>\n",
       "      <td>A</td>\n",
       "      <td>A</td>\n",
       "      <td>A</td>\n",
       "      <td>A</td>\n",
       "      <td>A</td>\n",
       "      <td>A</td>\n",
       "      <td>A</td>\n",
       "      <td>A</td>\n",
       "      <td>A</td>\n",
       "      <td>A</td>\n",
       "      <td>A</td>\n",
       "      <td>A</td>\n",
       "      <td>A</td>\n",
       "      <td>A</td>\n",
       "      <td>A</td>\n",
       "      <td>A</td>\n",
       "      <td>A</td>\n",
       "      <td>A</td>\n",
       "      <td>A</td>\n",
       "      <td>A</td>\n",
       "      <td>A</td>\n",
       "      <td>A</td>\n",
       "      <td>A</td>\n",
       "      <td>A</td>\n",
       "      <td>A</td>\n",
       "      <td>A</td>\n",
       "      <td>A</td>\n",
       "      <td>A</td>\n",
       "      <td>A</td>\n",
       "      <td>A</td>\n",
       "      <td>B</td>\n",
       "      <td>A</td>\n",
       "      <td>D</td>\n",
       "      <td>B</td>\n",
       "      <td>B</td>\n",
       "      <td>D</td>\n",
       "      <td>D</td>\n",
       "      <td>B</td>\n",
       "      <td>D</td>\n",
       "      <td>C</td>\n",
       "      <td>B</td>\n",
       "      <td>D</td>\n",
       "      <td>B</td>\n",
       "      <td>A</td>\n",
       "      <td>A</td>\n",
       "      <td>A</td>\n",
       "      <td>A</td>\n",
       "      <td>A</td>\n",
       "      <td>D</td>\n",
       "      <td>B</td>\n",
       "      <td>C</td>\n",
       "      <td>E</td>\n",
       "      <td>A</td>\n",
       "      <td>C</td>\n",
       "      <td>T</td>\n",
       "      <td>B</td>\n",
       "      <td>G</td>\n",
       "      <td>A</td>\n",
       "      <td>A</td>\n",
       "      <td>I</td>\n",
       "      <td>E</td>\n",
       "      <td>G</td>\n",
       "      <td>J</td>\n",
       "      <td>G</td>\n",
       "      <td>BU</td>\n",
       "      <td>BC</td>\n",
       "      <td>C</td>\n",
       "      <td>AS</td>\n",
       "      <td>S</td>\n",
       "      <td>A</td>\n",
       "      <td>O</td>\n",
       "      <td>LB</td>\n",
       "      <td>0.726300</td>\n",
       "      <td>0.245921</td>\n",
       "      <td>0.187583</td>\n",
       "      <td>0.789639</td>\n",
       "      <td>0.310061</td>\n",
       "      <td>0.718367</td>\n",
       "      <td>0.335060</td>\n",
       "      <td>0.30260</td>\n",
       "      <td>0.67135</td>\n",
       "      <td>0.83510</td>\n",
       "      <td>0.569745</td>\n",
       "      <td>0.594646</td>\n",
       "      <td>0.822493</td>\n",
       "      <td>0.714843</td>\n",
       "      <td>2213.18</td>\n",
       "    </tr>\n",
       "    <tr>\n",
       "      <th>1</th>\n",
       "      <td>2</td>\n",
       "      <td>A</td>\n",
       "      <td>B</td>\n",
       "      <td>A</td>\n",
       "      <td>A</td>\n",
       "      <td>A</td>\n",
       "      <td>A</td>\n",
       "      <td>A</td>\n",
       "      <td>A</td>\n",
       "      <td>B</td>\n",
       "      <td>B</td>\n",
       "      <td>A</td>\n",
       "      <td>A</td>\n",
       "      <td>A</td>\n",
       "      <td>A</td>\n",
       "      <td>A</td>\n",
       "      <td>A</td>\n",
       "      <td>A</td>\n",
       "      <td>A</td>\n",
       "      <td>A</td>\n",
       "      <td>A</td>\n",
       "      <td>A</td>\n",
       "      <td>A</td>\n",
       "      <td>A</td>\n",
       "      <td>A</td>\n",
       "      <td>A</td>\n",
       "      <td>A</td>\n",
       "      <td>A</td>\n",
       "      <td>A</td>\n",
       "      <td>A</td>\n",
       "      <td>A</td>\n",
       "      <td>A</td>\n",
       "      <td>A</td>\n",
       "      <td>A</td>\n",
       "      <td>A</td>\n",
       "      <td>A</td>\n",
       "      <td>A</td>\n",
       "      <td>A</td>\n",
       "      <td>A</td>\n",
       "      <td>A</td>\n",
       "      <td>A</td>\n",
       "      <td>A</td>\n",
       "      <td>A</td>\n",
       "      <td>A</td>\n",
       "      <td>A</td>\n",
       "      <td>A</td>\n",
       "      <td>A</td>\n",
       "      <td>A</td>\n",
       "      <td>A</td>\n",
       "      <td>A</td>\n",
       "      <td>A</td>\n",
       "      <td>A</td>\n",
       "      <td>A</td>\n",
       "      <td>A</td>\n",
       "      <td>A</td>\n",
       "      <td>A</td>\n",
       "      <td>A</td>\n",
       "      <td>A</td>\n",
       "      <td>A</td>\n",
       "      <td>A</td>\n",
       "      <td>A</td>\n",
       "      <td>A</td>\n",
       "      <td>A</td>\n",
       "      <td>A</td>\n",
       "      <td>A</td>\n",
       "      <td>A</td>\n",
       "      <td>A</td>\n",
       "      <td>A</td>\n",
       "      <td>A</td>\n",
       "      <td>A</td>\n",
       "      <td>A</td>\n",
       "      <td>A</td>\n",
       "      <td>A</td>\n",
       "      <td>A</td>\n",
       "      <td>A</td>\n",
       "      <td>A</td>\n",
       "      <td>A</td>\n",
       "      <td>D</td>\n",
       "      <td>B</td>\n",
       "      <td>B</td>\n",
       "      <td>D</td>\n",
       "      <td>D</td>\n",
       "      <td>A</td>\n",
       "      <td>B</td>\n",
       "      <td>C</td>\n",
       "      <td>B</td>\n",
       "      <td>D</td>\n",
       "      <td>B</td>\n",
       "      <td>A</td>\n",
       "      <td>A</td>\n",
       "      <td>A</td>\n",
       "      <td>A</td>\n",
       "      <td>A</td>\n",
       "      <td>D</td>\n",
       "      <td>D</td>\n",
       "      <td>C</td>\n",
       "      <td>E</td>\n",
       "      <td>E</td>\n",
       "      <td>D</td>\n",
       "      <td>T</td>\n",
       "      <td>L</td>\n",
       "      <td>F</td>\n",
       "      <td>A</td>\n",
       "      <td>A</td>\n",
       "      <td>E</td>\n",
       "      <td>E</td>\n",
       "      <td>I</td>\n",
       "      <td>K</td>\n",
       "      <td>K</td>\n",
       "      <td>BI</td>\n",
       "      <td>CQ</td>\n",
       "      <td>A</td>\n",
       "      <td>AV</td>\n",
       "      <td>BM</td>\n",
       "      <td>A</td>\n",
       "      <td>O</td>\n",
       "      <td>DP</td>\n",
       "      <td>0.330514</td>\n",
       "      <td>0.737068</td>\n",
       "      <td>0.592681</td>\n",
       "      <td>0.614134</td>\n",
       "      <td>0.885834</td>\n",
       "      <td>0.438917</td>\n",
       "      <td>0.436585</td>\n",
       "      <td>0.60087</td>\n",
       "      <td>0.35127</td>\n",
       "      <td>0.43919</td>\n",
       "      <td>0.338312</td>\n",
       "      <td>0.366307</td>\n",
       "      <td>0.611431</td>\n",
       "      <td>0.304496</td>\n",
       "      <td>1283.60</td>\n",
       "    </tr>\n",
       "    <tr>\n",
       "      <th>2</th>\n",
       "      <td>5</td>\n",
       "      <td>A</td>\n",
       "      <td>B</td>\n",
       "      <td>A</td>\n",
       "      <td>A</td>\n",
       "      <td>B</td>\n",
       "      <td>A</td>\n",
       "      <td>A</td>\n",
       "      <td>A</td>\n",
       "      <td>B</td>\n",
       "      <td>B</td>\n",
       "      <td>B</td>\n",
       "      <td>B</td>\n",
       "      <td>B</td>\n",
       "      <td>A</td>\n",
       "      <td>A</td>\n",
       "      <td>A</td>\n",
       "      <td>A</td>\n",
       "      <td>A</td>\n",
       "      <td>A</td>\n",
       "      <td>A</td>\n",
       "      <td>A</td>\n",
       "      <td>A</td>\n",
       "      <td>A</td>\n",
       "      <td>A</td>\n",
       "      <td>A</td>\n",
       "      <td>A</td>\n",
       "      <td>A</td>\n",
       "      <td>A</td>\n",
       "      <td>A</td>\n",
       "      <td>A</td>\n",
       "      <td>A</td>\n",
       "      <td>A</td>\n",
       "      <td>A</td>\n",
       "      <td>A</td>\n",
       "      <td>A</td>\n",
       "      <td>B</td>\n",
       "      <td>A</td>\n",
       "      <td>A</td>\n",
       "      <td>A</td>\n",
       "      <td>A</td>\n",
       "      <td>A</td>\n",
       "      <td>A</td>\n",
       "      <td>A</td>\n",
       "      <td>A</td>\n",
       "      <td>A</td>\n",
       "      <td>A</td>\n",
       "      <td>A</td>\n",
       "      <td>A</td>\n",
       "      <td>A</td>\n",
       "      <td>A</td>\n",
       "      <td>A</td>\n",
       "      <td>A</td>\n",
       "      <td>A</td>\n",
       "      <td>A</td>\n",
       "      <td>A</td>\n",
       "      <td>A</td>\n",
       "      <td>A</td>\n",
       "      <td>A</td>\n",
       "      <td>A</td>\n",
       "      <td>A</td>\n",
       "      <td>A</td>\n",
       "      <td>A</td>\n",
       "      <td>A</td>\n",
       "      <td>A</td>\n",
       "      <td>A</td>\n",
       "      <td>A</td>\n",
       "      <td>A</td>\n",
       "      <td>A</td>\n",
       "      <td>A</td>\n",
       "      <td>A</td>\n",
       "      <td>A</td>\n",
       "      <td>A</td>\n",
       "      <td>A</td>\n",
       "      <td>A</td>\n",
       "      <td>A</td>\n",
       "      <td>A</td>\n",
       "      <td>D</td>\n",
       "      <td>B</td>\n",
       "      <td>B</td>\n",
       "      <td>B</td>\n",
       "      <td>D</td>\n",
       "      <td>B</td>\n",
       "      <td>D</td>\n",
       "      <td>C</td>\n",
       "      <td>B</td>\n",
       "      <td>B</td>\n",
       "      <td>B</td>\n",
       "      <td>A</td>\n",
       "      <td>A</td>\n",
       "      <td>A</td>\n",
       "      <td>A</td>\n",
       "      <td>A</td>\n",
       "      <td>D</td>\n",
       "      <td>D</td>\n",
       "      <td>C</td>\n",
       "      <td>E</td>\n",
       "      <td>E</td>\n",
       "      <td>A</td>\n",
       "      <td>D</td>\n",
       "      <td>L</td>\n",
       "      <td>O</td>\n",
       "      <td>A</td>\n",
       "      <td>B</td>\n",
       "      <td>E</td>\n",
       "      <td>F</td>\n",
       "      <td>H</td>\n",
       "      <td>F</td>\n",
       "      <td>A</td>\n",
       "      <td>AB</td>\n",
       "      <td>DK</td>\n",
       "      <td>A</td>\n",
       "      <td>C</td>\n",
       "      <td>AF</td>\n",
       "      <td>A</td>\n",
       "      <td>I</td>\n",
       "      <td>GK</td>\n",
       "      <td>0.261841</td>\n",
       "      <td>0.358319</td>\n",
       "      <td>0.484196</td>\n",
       "      <td>0.236924</td>\n",
       "      <td>0.397069</td>\n",
       "      <td>0.289648</td>\n",
       "      <td>0.315545</td>\n",
       "      <td>0.27320</td>\n",
       "      <td>0.26076</td>\n",
       "      <td>0.32446</td>\n",
       "      <td>0.381398</td>\n",
       "      <td>0.373424</td>\n",
       "      <td>0.195709</td>\n",
       "      <td>0.774425</td>\n",
       "      <td>3005.09</td>\n",
       "    </tr>\n",
       "    <tr>\n",
       "      <th>3</th>\n",
       "      <td>10</td>\n",
       "      <td>B</td>\n",
       "      <td>B</td>\n",
       "      <td>A</td>\n",
       "      <td>B</td>\n",
       "      <td>A</td>\n",
       "      <td>A</td>\n",
       "      <td>A</td>\n",
       "      <td>A</td>\n",
       "      <td>B</td>\n",
       "      <td>A</td>\n",
       "      <td>A</td>\n",
       "      <td>A</td>\n",
       "      <td>A</td>\n",
       "      <td>A</td>\n",
       "      <td>A</td>\n",
       "      <td>A</td>\n",
       "      <td>A</td>\n",
       "      <td>A</td>\n",
       "      <td>A</td>\n",
       "      <td>A</td>\n",
       "      <td>A</td>\n",
       "      <td>A</td>\n",
       "      <td>B</td>\n",
       "      <td>A</td>\n",
       "      <td>A</td>\n",
       "      <td>A</td>\n",
       "      <td>A</td>\n",
       "      <td>A</td>\n",
       "      <td>A</td>\n",
       "      <td>A</td>\n",
       "      <td>A</td>\n",
       "      <td>A</td>\n",
       "      <td>A</td>\n",
       "      <td>A</td>\n",
       "      <td>A</td>\n",
       "      <td>A</td>\n",
       "      <td>A</td>\n",
       "      <td>A</td>\n",
       "      <td>A</td>\n",
       "      <td>A</td>\n",
       "      <td>A</td>\n",
       "      <td>A</td>\n",
       "      <td>A</td>\n",
       "      <td>A</td>\n",
       "      <td>A</td>\n",
       "      <td>A</td>\n",
       "      <td>A</td>\n",
       "      <td>A</td>\n",
       "      <td>A</td>\n",
       "      <td>A</td>\n",
       "      <td>A</td>\n",
       "      <td>A</td>\n",
       "      <td>A</td>\n",
       "      <td>A</td>\n",
       "      <td>A</td>\n",
       "      <td>A</td>\n",
       "      <td>A</td>\n",
       "      <td>A</td>\n",
       "      <td>A</td>\n",
       "      <td>A</td>\n",
       "      <td>A</td>\n",
       "      <td>A</td>\n",
       "      <td>A</td>\n",
       "      <td>A</td>\n",
       "      <td>A</td>\n",
       "      <td>A</td>\n",
       "      <td>A</td>\n",
       "      <td>A</td>\n",
       "      <td>A</td>\n",
       "      <td>A</td>\n",
       "      <td>A</td>\n",
       "      <td>A</td>\n",
       "      <td>B</td>\n",
       "      <td>A</td>\n",
       "      <td>A</td>\n",
       "      <td>A</td>\n",
       "      <td>D</td>\n",
       "      <td>B</td>\n",
       "      <td>B</td>\n",
       "      <td>D</td>\n",
       "      <td>D</td>\n",
       "      <td>D</td>\n",
       "      <td>B</td>\n",
       "      <td>C</td>\n",
       "      <td>B</td>\n",
       "      <td>D</td>\n",
       "      <td>B</td>\n",
       "      <td>A</td>\n",
       "      <td>A</td>\n",
       "      <td>A</td>\n",
       "      <td>A</td>\n",
       "      <td>A</td>\n",
       "      <td>D</td>\n",
       "      <td>D</td>\n",
       "      <td>C</td>\n",
       "      <td>E</td>\n",
       "      <td>E</td>\n",
       "      <td>D</td>\n",
       "      <td>T</td>\n",
       "      <td>I</td>\n",
       "      <td>D</td>\n",
       "      <td>A</td>\n",
       "      <td>A</td>\n",
       "      <td>E</td>\n",
       "      <td>E</td>\n",
       "      <td>I</td>\n",
       "      <td>K</td>\n",
       "      <td>K</td>\n",
       "      <td>BI</td>\n",
       "      <td>CS</td>\n",
       "      <td>C</td>\n",
       "      <td>N</td>\n",
       "      <td>AE</td>\n",
       "      <td>A</td>\n",
       "      <td>O</td>\n",
       "      <td>DJ</td>\n",
       "      <td>0.321594</td>\n",
       "      <td>0.555782</td>\n",
       "      <td>0.527991</td>\n",
       "      <td>0.373816</td>\n",
       "      <td>0.422268</td>\n",
       "      <td>0.440945</td>\n",
       "      <td>0.391128</td>\n",
       "      <td>0.31796</td>\n",
       "      <td>0.32128</td>\n",
       "      <td>0.44467</td>\n",
       "      <td>0.327915</td>\n",
       "      <td>0.321570</td>\n",
       "      <td>0.605077</td>\n",
       "      <td>0.602642</td>\n",
       "      <td>939.85</td>\n",
       "    </tr>\n",
       "    <tr>\n",
       "      <th>4</th>\n",
       "      <td>11</td>\n",
       "      <td>A</td>\n",
       "      <td>B</td>\n",
       "      <td>A</td>\n",
       "      <td>B</td>\n",
       "      <td>A</td>\n",
       "      <td>A</td>\n",
       "      <td>A</td>\n",
       "      <td>A</td>\n",
       "      <td>B</td>\n",
       "      <td>B</td>\n",
       "      <td>A</td>\n",
       "      <td>B</td>\n",
       "      <td>A</td>\n",
       "      <td>A</td>\n",
       "      <td>A</td>\n",
       "      <td>A</td>\n",
       "      <td>A</td>\n",
       "      <td>A</td>\n",
       "      <td>A</td>\n",
       "      <td>A</td>\n",
       "      <td>A</td>\n",
       "      <td>A</td>\n",
       "      <td>B</td>\n",
       "      <td>A</td>\n",
       "      <td>A</td>\n",
       "      <td>A</td>\n",
       "      <td>A</td>\n",
       "      <td>A</td>\n",
       "      <td>A</td>\n",
       "      <td>A</td>\n",
       "      <td>A</td>\n",
       "      <td>A</td>\n",
       "      <td>A</td>\n",
       "      <td>A</td>\n",
       "      <td>A</td>\n",
       "      <td>A</td>\n",
       "      <td>A</td>\n",
       "      <td>A</td>\n",
       "      <td>A</td>\n",
       "      <td>A</td>\n",
       "      <td>A</td>\n",
       "      <td>A</td>\n",
       "      <td>A</td>\n",
       "      <td>A</td>\n",
       "      <td>A</td>\n",
       "      <td>A</td>\n",
       "      <td>A</td>\n",
       "      <td>A</td>\n",
       "      <td>A</td>\n",
       "      <td>A</td>\n",
       "      <td>A</td>\n",
       "      <td>A</td>\n",
       "      <td>A</td>\n",
       "      <td>A</td>\n",
       "      <td>A</td>\n",
       "      <td>A</td>\n",
       "      <td>A</td>\n",
       "      <td>A</td>\n",
       "      <td>A</td>\n",
       "      <td>A</td>\n",
       "      <td>A</td>\n",
       "      <td>A</td>\n",
       "      <td>A</td>\n",
       "      <td>A</td>\n",
       "      <td>A</td>\n",
       "      <td>A</td>\n",
       "      <td>A</td>\n",
       "      <td>A</td>\n",
       "      <td>A</td>\n",
       "      <td>A</td>\n",
       "      <td>A</td>\n",
       "      <td>B</td>\n",
       "      <td>A</td>\n",
       "      <td>A</td>\n",
       "      <td>A</td>\n",
       "      <td>A</td>\n",
       "      <td>D</td>\n",
       "      <td>B</td>\n",
       "      <td>D</td>\n",
       "      <td>B</td>\n",
       "      <td>D</td>\n",
       "      <td>B</td>\n",
       "      <td>B</td>\n",
       "      <td>C</td>\n",
       "      <td>B</td>\n",
       "      <td>B</td>\n",
       "      <td>C</td>\n",
       "      <td>A</td>\n",
       "      <td>A</td>\n",
       "      <td>A</td>\n",
       "      <td>B</td>\n",
       "      <td>H</td>\n",
       "      <td>D</td>\n",
       "      <td>B</td>\n",
       "      <td>D</td>\n",
       "      <td>E</td>\n",
       "      <td>E</td>\n",
       "      <td>A</td>\n",
       "      <td>P</td>\n",
       "      <td>F</td>\n",
       "      <td>J</td>\n",
       "      <td>A</td>\n",
       "      <td>A</td>\n",
       "      <td>D</td>\n",
       "      <td>E</td>\n",
       "      <td>K</td>\n",
       "      <td>G</td>\n",
       "      <td>B</td>\n",
       "      <td>H</td>\n",
       "      <td>C</td>\n",
       "      <td>C</td>\n",
       "      <td>Y</td>\n",
       "      <td>BM</td>\n",
       "      <td>A</td>\n",
       "      <td>K</td>\n",
       "      <td>CK</td>\n",
       "      <td>0.273204</td>\n",
       "      <td>0.159990</td>\n",
       "      <td>0.527991</td>\n",
       "      <td>0.473202</td>\n",
       "      <td>0.704268</td>\n",
       "      <td>0.178193</td>\n",
       "      <td>0.247408</td>\n",
       "      <td>0.24564</td>\n",
       "      <td>0.22089</td>\n",
       "      <td>0.21230</td>\n",
       "      <td>0.204687</td>\n",
       "      <td>0.202213</td>\n",
       "      <td>0.246011</td>\n",
       "      <td>0.432606</td>\n",
       "      <td>2763.85</td>\n",
       "    </tr>\n",
       "  </tbody>\n",
       "</table>\n",
       "</div>"
      ],
      "text/plain": [
       "   id cat1 cat2 cat3 cat4 cat5 cat6 cat7 cat8 cat9 cat10 cat11 cat12 cat13  \\\n",
       "0   1    A    B    A    B    A    A    A    A    B     A     B     A     A   \n",
       "1   2    A    B    A    A    A    A    A    A    B     B     A     A     A   \n",
       "2   5    A    B    A    A    B    A    A    A    B     B     B     B     B   \n",
       "3  10    B    B    A    B    A    A    A    A    B     A     A     A     A   \n",
       "4  11    A    B    A    B    A    A    A    A    B     B     A     B     A   \n",
       "\n",
       "  cat14 cat15 cat16 cat17 cat18 cat19 cat20 cat21 cat22 cat23 cat24 cat25  \\\n",
       "0     A     A     A     A     A     A     A     A     A     B     A     A   \n",
       "1     A     A     A     A     A     A     A     A     A     A     A     A   \n",
       "2     A     A     A     A     A     A     A     A     A     A     A     A   \n",
       "3     A     A     A     A     A     A     A     A     A     B     A     A   \n",
       "4     A     A     A     A     A     A     A     A     A     B     A     A   \n",
       "\n",
       "  cat26 cat27 cat28 cat29 cat30 cat31 cat32 cat33 cat34 cat35 cat36 cat37  \\\n",
       "0     A     A     A     A     A     A     A     A     A     A     A     A   \n",
       "1     A     A     A     A     A     A     A     A     A     A     A     A   \n",
       "2     A     A     A     A     A     A     A     A     A     A     B     A   \n",
       "3     A     A     A     A     A     A     A     A     A     A     A     A   \n",
       "4     A     A     A     A     A     A     A     A     A     A     A     A   \n",
       "\n",
       "  cat38 cat39 cat40 cat41 cat42 cat43 cat44 cat45 cat46 cat47 cat48 cat49  \\\n",
       "0     A     A     A     A     A     A     A     A     A     A     A     A   \n",
       "1     A     A     A     A     A     A     A     A     A     A     A     A   \n",
       "2     A     A     A     A     A     A     A     A     A     A     A     A   \n",
       "3     A     A     A     A     A     A     A     A     A     A     A     A   \n",
       "4     A     A     A     A     A     A     A     A     A     A     A     A   \n",
       "\n",
       "  cat50 cat51 cat52 cat53 cat54 cat55 cat56 cat57 cat58 cat59 cat60 cat61  \\\n",
       "0     A     A     A     A     A     A     A     A     A     A     A     A   \n",
       "1     A     A     A     A     A     A     A     A     A     A     A     A   \n",
       "2     A     A     A     A     A     A     A     A     A     A     A     A   \n",
       "3     A     A     A     A     A     A     A     A     A     A     A     A   \n",
       "4     A     A     A     A     A     A     A     A     A     A     A     A   \n",
       "\n",
       "  cat62 cat63 cat64 cat65 cat66 cat67 cat68 cat69 cat70 cat71 cat72 cat73  \\\n",
       "0     A     A     A     A     A     A     A     A     A     A     A     A   \n",
       "1     A     A     A     A     A     A     A     A     A     A     A     A   \n",
       "2     A     A     A     A     A     A     A     A     A     A     A     A   \n",
       "3     A     A     A     A     A     A     A     A     A     A     A     B   \n",
       "4     A     A     A     A     A     A     A     A     A     A     B     A   \n",
       "\n",
       "  cat74 cat75 cat76 cat77 cat78 cat79 cat80 cat81 cat82 cat83 cat84 cat85  \\\n",
       "0     A     B     A     D     B     B     D     D     B     D     C     B   \n",
       "1     A     A     A     D     B     B     D     D     A     B     C     B   \n",
       "2     A     A     A     D     B     B     B     D     B     D     C     B   \n",
       "3     A     A     A     D     B     B     D     D     D     B     C     B   \n",
       "4     A     A     A     D     B     D     B     D     B     B     C     B   \n",
       "\n",
       "  cat86 cat87 cat88 cat89 cat90 cat91 cat92 cat93 cat94 cat95 cat96 cat97  \\\n",
       "0     D     B     A     A     A     A     A     D     B     C     E     A   \n",
       "1     D     B     A     A     A     A     A     D     D     C     E     E   \n",
       "2     B     B     A     A     A     A     A     D     D     C     E     E   \n",
       "3     D     B     A     A     A     A     A     D     D     C     E     E   \n",
       "4     B     C     A     A     A     B     H     D     B     D     E     E   \n",
       "\n",
       "  cat98 cat99 cat100 cat101 cat102 cat103 cat104 cat105 cat106 cat107 cat108  \\\n",
       "0     C     T      B      G      A      A      I      E      G      J      G   \n",
       "1     D     T      L      F      A      A      E      E      I      K      K   \n",
       "2     A     D      L      O      A      B      E      F      H      F      A   \n",
       "3     D     T      I      D      A      A      E      E      I      K      K   \n",
       "4     A     P      F      J      A      A      D      E      K      G      B   \n",
       "\n",
       "  cat109 cat110 cat111 cat112 cat113 cat114 cat115 cat116     cont1     cont2  \\\n",
       "0     BU     BC      C     AS      S      A      O     LB  0.726300  0.245921   \n",
       "1     BI     CQ      A     AV     BM      A      O     DP  0.330514  0.737068   \n",
       "2     AB     DK      A      C     AF      A      I     GK  0.261841  0.358319   \n",
       "3     BI     CS      C      N     AE      A      O     DJ  0.321594  0.555782   \n",
       "4      H      C      C      Y     BM      A      K     CK  0.273204  0.159990   \n",
       "\n",
       "      cont3     cont4     cont5     cont6     cont7    cont8    cont9  \\\n",
       "0  0.187583  0.789639  0.310061  0.718367  0.335060  0.30260  0.67135   \n",
       "1  0.592681  0.614134  0.885834  0.438917  0.436585  0.60087  0.35127   \n",
       "2  0.484196  0.236924  0.397069  0.289648  0.315545  0.27320  0.26076   \n",
       "3  0.527991  0.373816  0.422268  0.440945  0.391128  0.31796  0.32128   \n",
       "4  0.527991  0.473202  0.704268  0.178193  0.247408  0.24564  0.22089   \n",
       "\n",
       "    cont10    cont11    cont12    cont13    cont14     loss  \n",
       "0  0.83510  0.569745  0.594646  0.822493  0.714843  2213.18  \n",
       "1  0.43919  0.338312  0.366307  0.611431  0.304496  1283.60  \n",
       "2  0.32446  0.381398  0.373424  0.195709  0.774425  3005.09  \n",
       "3  0.44467  0.327915  0.321570  0.605077  0.602642   939.85  \n",
       "4  0.21230  0.204687  0.202213  0.246011  0.432606  2763.85  "
      ]
     },
     "execution_count": 6,
     "metadata": {},
     "output_type": "execute_result"
    }
   ],
   "source": [
    "train_data.head()"
   ]
  },
  {
   "cell_type": "code",
   "execution_count": 7,
   "metadata": {
    "ExecuteTime": {
     "end_time": "2024-10-20T01:35:05.436624Z",
     "start_time": "2024-10-20T01:35:05.420996Z"
    },
    "colab": {
     "base_uri": "https://localhost:8080/"
    },
    "executionInfo": {
     "elapsed": 9,
     "status": "ok",
     "timestamp": 1644231857679,
     "user": {
      "displayName": "Siddhi Jadhav",
      "photoUrl": "https://lh3.googleusercontent.com/a/default-user=s64",
      "userId": "08402691859170607175"
     },
     "user_tz": -330
    },
    "id": "Wnmrzlyl1OWG",
    "outputId": "2af42f8d-7ad3-4bbb-977b-d37b2e6cf9ac"
   },
   "outputs": [
    {
     "name": "stdout",
     "output_type": "stream",
     "text": [
      "['id' 'cat1' 'cat2' 'cat3' 'cat4' 'cat5' 'cat6' 'cat7' 'cat8' 'cat9'\n",
      " 'cat10' 'cat11' 'cat12' 'cat13' 'cat14' 'cat15' 'cat16' 'cat17' 'cat18'\n",
      " 'cat19' 'cat20' 'cat21' 'cat22' 'cat23' 'cat24' 'cat25' 'cat26' 'cat27'\n",
      " 'cat28' 'cat29' 'cat30' 'cat31' 'cat32' 'cat33' 'cat34' 'cat35' 'cat36'\n",
      " 'cat37' 'cat38' 'cat39' 'cat40' 'cat41' 'cat42' 'cat43' 'cat44' 'cat45'\n",
      " 'cat46' 'cat47' 'cat48' 'cat49' 'cat50' 'cat51' 'cat52' 'cat53' 'cat54'\n",
      " 'cat55' 'cat56' 'cat57' 'cat58' 'cat59' 'cat60' 'cat61' 'cat62' 'cat63'\n",
      " 'cat64' 'cat65' 'cat66' 'cat67' 'cat68' 'cat69' 'cat70' 'cat71' 'cat72'\n",
      " 'cat73' 'cat74' 'cat75' 'cat76' 'cat77' 'cat78' 'cat79' 'cat80' 'cat81'\n",
      " 'cat82' 'cat83' 'cat84' 'cat85' 'cat86' 'cat87' 'cat88' 'cat89' 'cat90'\n",
      " 'cat91' 'cat92' 'cat93' 'cat94' 'cat95' 'cat96' 'cat97' 'cat98' 'cat99'\n",
      " 'cat100' 'cat101' 'cat102' 'cat103' 'cat104' 'cat105' 'cat106' 'cat107'\n",
      " 'cat108' 'cat109' 'cat110' 'cat111' 'cat112' 'cat113' 'cat114' 'cat115'\n",
      " 'cat116' 'cont1' 'cont2' 'cont3' 'cont4' 'cont5' 'cont6' 'cont7' 'cont8'\n",
      " 'cont9' 'cont10' 'cont11' 'cont12' 'cont13' 'cont14' 'loss']\n"
     ]
    }
   ],
   "source": [
    "column_names = np.array(train_data.columns)\n",
    "print(column_names)"
   ]
  },
  {
   "cell_type": "markdown",
   "metadata": {
    "id": "7ZYM3UrO1OWG"
   },
   "source": [
    "***"
   ]
  },
  {
   "cell_type": "markdown",
   "metadata": {
    "id": "6chmpOqy1OWG"
   },
   "source": [
    "###### Identify the categorical and numerical columns to check the data distribution and 5 point summary"
   ]
  },
  {
   "cell_type": "code",
   "execution_count": 8,
   "metadata": {
    "ExecuteTime": {
     "end_time": "2024-10-20T01:35:10.208034Z",
     "start_time": "2024-10-20T01:35:10.161157Z"
    },
    "id": "DuuGJBKc1OWH"
   },
   "outputs": [],
   "source": [
    "column_datatypes = train_data.dtypes\n",
    "categorical_columns = list(column_datatypes[column_datatypes==\"object\"].index.values)\n",
    "continuous_columns = list(column_datatypes[column_datatypes==\"float64\"].index.values)\n",
    "continuous_columns.remove('loss')"
   ]
  },
  {
   "cell_type": "markdown",
   "metadata": {
    "id": "yU30ysn21OWH"
   },
   "source": [
    "##### check the distribution of categorical variables"
   ]
  },
  {
   "cell_type": "code",
   "execution_count": 9,
   "metadata": {
    "ExecuteTime": {
     "end_time": "2024-10-20T01:35:13.916469Z",
     "start_time": "2024-10-20T01:35:13.906450Z"
    },
    "id": "jQ1hMn-u1OWH"
   },
   "outputs": [],
   "source": [
    "#function to check the distribution of values in categorical columns\n",
    "#Training data and Categorical columns list\n",
    "def category_distribution(train_data,categorical_columns):\n",
    "    categorical_column_distribution = list()\n",
    "    for cat_column in categorical_columns:\n",
    "        categorical_column_distribution.append(train_data[cat_column].value_counts())\n",
    "    return(categorical_column_distribution)"
   ]
  },
  {
   "cell_type": "code",
   "execution_count": 10,
   "metadata": {
    "ExecuteTime": {
     "end_time": "2024-10-20T01:35:18.866470Z",
     "start_time": "2024-10-20T01:35:17.486005Z"
    },
    "id": "v8YvKnxA1OWI"
   },
   "outputs": [],
   "source": [
    "categorical_column_distribution = category_distribution(train_data,categorical_columns)"
   ]
  },
  {
   "cell_type": "code",
   "execution_count": 11,
   "metadata": {
    "ExecuteTime": {
     "end_time": "2024-10-20T01:35:27.809893Z",
     "start_time": "2024-10-20T01:35:27.747381Z"
    },
    "colab": {
     "base_uri": "https://localhost:8080/"
    },
    "executionInfo": {
     "elapsed": 18,
     "status": "ok",
     "timestamp": 1644231859262,
     "user": {
      "displayName": "Siddhi Jadhav",
      "photoUrl": "https://lh3.googleusercontent.com/a/default-user=s64",
      "userId": "08402691859170607175"
     },
     "user_tz": -330
    },
    "id": "0orjIAxC1OWI",
    "outputId": "73560b75-b388-4a8f-ce64-27ebb926efc5"
   },
   "outputs": [
    {
     "data": {
      "text/plain": [
       "[cat1\n",
       " A    141550\n",
       " B     46768\n",
       " Name: count, dtype: int64,\n",
       " cat2\n",
       " A    106721\n",
       " B     81597\n",
       " Name: count, dtype: int64,\n",
       " cat3\n",
       " A    177993\n",
       " B     10325\n",
       " Name: count, dtype: int64,\n",
       " cat4\n",
       " A    128395\n",
       " B     59923\n",
       " Name: count, dtype: int64,\n",
       " cat5\n",
       " A    123737\n",
       " B     64581\n",
       " Name: count, dtype: int64,\n",
       " cat6\n",
       " A    131693\n",
       " B     56625\n",
       " Name: count, dtype: int64,\n",
       " cat7\n",
       " A    183744\n",
       " B      4574\n",
       " Name: count, dtype: int64,\n",
       " cat8\n",
       " A    177274\n",
       " B     11044\n",
       " Name: count, dtype: int64,\n",
       " cat9\n",
       " A    113122\n",
       " B     75196\n",
       " Name: count, dtype: int64,\n",
       " cat10\n",
       " A    160213\n",
       " B     28105\n",
       " Name: count, dtype: int64,\n",
       " cat11\n",
       " A    168186\n",
       " B     20132\n",
       " Name: count, dtype: int64,\n",
       " cat12\n",
       " A    159825\n",
       " B     28493\n",
       " Name: count, dtype: int64,\n",
       " cat13\n",
       " A    168851\n",
       " B     19467\n",
       " Name: count, dtype: int64,\n",
       " cat14\n",
       " A    186041\n",
       " B      2277\n",
       " Name: count, dtype: int64,\n",
       " cat15\n",
       " A    188284\n",
       " B        34\n",
       " Name: count, dtype: int64,\n",
       " cat16\n",
       " A    181843\n",
       " B      6475\n",
       " Name: count, dtype: int64,\n",
       " cat17\n",
       " A    187009\n",
       " B      1309\n",
       " Name: count, dtype: int64,\n",
       " cat18\n",
       " A    187331\n",
       " B       987\n",
       " Name: count, dtype: int64,\n",
       " cat19\n",
       " A    186510\n",
       " B      1808\n",
       " Name: count, dtype: int64,\n",
       " cat20\n",
       " A    188114\n",
       " B       204\n",
       " Name: count, dtype: int64,\n",
       " cat21\n",
       " A    187905\n",
       " B       413\n",
       " Name: count, dtype: int64,\n",
       " cat22\n",
       " A    188275\n",
       " B        43\n",
       " Name: count, dtype: int64,\n",
       " cat23\n",
       " A    157445\n",
       " B     30873\n",
       " Name: count, dtype: int64,\n",
       " cat24\n",
       " A    181977\n",
       " B      6341\n",
       " Name: count, dtype: int64,\n",
       " cat25\n",
       " A    169969\n",
       " B     18349\n",
       " Name: count, dtype: int64,\n",
       " cat26\n",
       " A    177119\n",
       " B     11199\n",
       " Name: count, dtype: int64,\n",
       " cat27\n",
       " A    168250\n",
       " B     20068\n",
       " Name: count, dtype: int64,\n",
       " cat28\n",
       " A    180938\n",
       " B      7380\n",
       " Name: count, dtype: int64,\n",
       " cat29\n",
       " A    184593\n",
       " B      3725\n",
       " Name: count, dtype: int64,\n",
       " cat30\n",
       " A    184760\n",
       " B      3558\n",
       " Name: count, dtype: int64,\n",
       " cat31\n",
       " A    182980\n",
       " B      5338\n",
       " Name: count, dtype: int64,\n",
       " cat32\n",
       " A    187107\n",
       " B      1211\n",
       " Name: count, dtype: int64,\n",
       " cat33\n",
       " A    187361\n",
       " B       957\n",
       " Name: count, dtype: int64,\n",
       " cat34\n",
       " A    187734\n",
       " B       584\n",
       " Name: count, dtype: int64,\n",
       " cat35\n",
       " A    188105\n",
       " B       213\n",
       " Name: count, dtype: int64,\n",
       " cat36\n",
       " A    156313\n",
       " B     32005\n",
       " Name: count, dtype: int64,\n",
       " cat37\n",
       " A    165729\n",
       " B     22589\n",
       " Name: count, dtype: int64,\n",
       " cat38\n",
       " A    169323\n",
       " B     18995\n",
       " Name: count, dtype: int64,\n",
       " cat39\n",
       " A    183393\n",
       " B      4925\n",
       " Name: count, dtype: int64,\n",
       " cat40\n",
       " A    180119\n",
       " B      8199\n",
       " Name: count, dtype: int64,\n",
       " cat41\n",
       " A    181177\n",
       " B      7141\n",
       " Name: count, dtype: int64,\n",
       " cat42\n",
       " A    186623\n",
       " B      1695\n",
       " Name: count, dtype: int64,\n",
       " cat43\n",
       " A    184110\n",
       " B      4208\n",
       " Name: count, dtype: int64,\n",
       " cat44\n",
       " A    172716\n",
       " B     15602\n",
       " Name: count, dtype: int64,\n",
       " cat45\n",
       " A    183991\n",
       " B      4327\n",
       " Name: count, dtype: int64,\n",
       " cat46\n",
       " A    187436\n",
       " B       882\n",
       " Name: count, dtype: int64,\n",
       " cat47\n",
       " A    187617\n",
       " B       701\n",
       " Name: count, dtype: int64,\n",
       " cat48\n",
       " A    188049\n",
       " B       269\n",
       " Name: count, dtype: int64,\n",
       " cat49\n",
       " A    179127\n",
       " B      9191\n",
       " Name: count, dtype: int64,\n",
       " cat50\n",
       " A    137611\n",
       " B     50707\n",
       " Name: count, dtype: int64,\n",
       " cat51\n",
       " A    187071\n",
       " B      1247\n",
       " Name: count, dtype: int64,\n",
       " cat52\n",
       " A    179505\n",
       " B      8813\n",
       " Name: count, dtype: int64,\n",
       " cat53\n",
       " A    172949\n",
       " B     15369\n",
       " Name: count, dtype: int64,\n",
       " cat54\n",
       " A    183762\n",
       " B      4556\n",
       " Name: count, dtype: int64,\n",
       " cat55\n",
       " A    188173\n",
       " B       145\n",
       " Name: count, dtype: int64,\n",
       " cat56\n",
       " A    188136\n",
       " B       182\n",
       " Name: count, dtype: int64,\n",
       " cat57\n",
       " A    185296\n",
       " B      3022\n",
       " Name: count, dtype: int64,\n",
       " cat58\n",
       " A    188079\n",
       " B       239\n",
       " Name: count, dtype: int64,\n",
       " cat59\n",
       " A    188018\n",
       " B       300\n",
       " Name: count, dtype: int64,\n",
       " cat60\n",
       " A    187872\n",
       " B       446\n",
       " Name: count, dtype: int64,\n",
       " cat61\n",
       " A    187596\n",
       " B       722\n",
       " Name: count, dtype: int64,\n",
       " cat62\n",
       " A    188273\n",
       " B        45\n",
       " Name: count, dtype: int64,\n",
       " cat63\n",
       " A    188239\n",
       " B        79\n",
       " Name: count, dtype: int64,\n",
       " cat64\n",
       " A    188271\n",
       " B        47\n",
       " Name: count, dtype: int64,\n",
       " cat65\n",
       " A    186056\n",
       " B      2262\n",
       " Name: count, dtype: int64,\n",
       " cat66\n",
       " A    179982\n",
       " B      8336\n",
       " Name: count, dtype: int64,\n",
       " cat67\n",
       " A    187626\n",
       " B       692\n",
       " Name: count, dtype: int64,\n",
       " cat68\n",
       " A    188176\n",
       " B       142\n",
       " Name: count, dtype: int64,\n",
       " cat69\n",
       " A    188011\n",
       " B       307\n",
       " Name: count, dtype: int64,\n",
       " cat70\n",
       " A    188295\n",
       " B        23\n",
       " Name: count, dtype: int64,\n",
       " cat71\n",
       " A    178646\n",
       " B      9672\n",
       " Name: count, dtype: int64,\n",
       " cat72\n",
       " A    118322\n",
       " B     69996\n",
       " Name: count, dtype: int64,\n",
       " cat73\n",
       " A    154275\n",
       " B     34017\n",
       " C        26\n",
       " Name: count, dtype: int64,\n",
       " cat74\n",
       " A    184731\n",
       " B      3561\n",
       " C        26\n",
       " Name: count, dtype: int64,\n",
       " cat75\n",
       " A    154307\n",
       " B     34010\n",
       " C         1\n",
       " Name: count, dtype: int64,\n",
       " cat76\n",
       " A    181347\n",
       " B      6183\n",
       " C       788\n",
       " Name: count, dtype: int64,\n",
       " cat77\n",
       " D    187503\n",
       " C       408\n",
       " B       358\n",
       " A        49\n",
       " Name: count, dtype: int64,\n",
       " cat78\n",
       " B    186526\n",
       " A       788\n",
       " C       645\n",
       " D       359\n",
       " Name: count, dtype: int64,\n",
       " cat79\n",
       " B    152929\n",
       " D     26657\n",
       " A      7064\n",
       " C      1668\n",
       " Name: count, dtype: int64,\n",
       " cat80\n",
       " D    137505\n",
       " B     46538\n",
       " C      3492\n",
       " A       783\n",
       " Name: count, dtype: int64,\n",
       " cat81\n",
       " D    154385\n",
       " B     24132\n",
       " C      9013\n",
       " A       788\n",
       " Name: count, dtype: int64,\n",
       " cat82\n",
       " B    147536\n",
       " A     19322\n",
       " D     18805\n",
       " C      2655\n",
       " Name: count, dtype: int64,\n",
       " cat83\n",
       " B    141534\n",
       " A     26038\n",
       " D     15788\n",
       " C      4958\n",
       " Name: count, dtype: int64,\n",
       " cat84\n",
       " C    154939\n",
       " A     29450\n",
       " D      3498\n",
       " B       431\n",
       " Name: count, dtype: int64,\n",
       " cat85\n",
       " B    186005\n",
       " C      1011\n",
       " A       788\n",
       " D       514\n",
       " Name: count, dtype: int64,\n",
       " cat86\n",
       " B    103852\n",
       " D     72587\n",
       " C     10290\n",
       " A      1589\n",
       " Name: count, dtype: int64,\n",
       " cat87\n",
       " B    166992\n",
       " D     11719\n",
       " C      8819\n",
       " A       788\n",
       " Name: count, dtype: int64,\n",
       " cat88\n",
       " A    168926\n",
       " D     19302\n",
       " E        83\n",
       " B         7\n",
       " Name: count, dtype: int64,\n",
       " cat89\n",
       " A    183744\n",
       " B      4312\n",
       " C       220\n",
       " D        33\n",
       " E         5\n",
       " I         2\n",
       " H         1\n",
       " G         1\n",
       " Name: count, dtype: int64,\n",
       " cat90\n",
       " A    177993\n",
       " B      9515\n",
       " C       728\n",
       " D        70\n",
       " E         6\n",
       " F         4\n",
       " G         2\n",
       " Name: count, dtype: int64,\n",
       " cat91\n",
       " A    111028\n",
       " B     42630\n",
       " G     26734\n",
       " C      6400\n",
       " D      1149\n",
       " E       254\n",
       " F        97\n",
       " H        26\n",
       " Name: count, dtype: int64,\n",
       " cat92\n",
       " A    124689\n",
       " H     62901\n",
       " B       628\n",
       " C        62\n",
       " I        26\n",
       " D        11\n",
       " F         1\n",
       " Name: count, dtype: int64,\n",
       " cat93\n",
       " D    150237\n",
       " C     35788\n",
       " B      1133\n",
       " E       728\n",
       " A       432\n",
       " Name: count, dtype: int64,\n",
       " cat94\n",
       " D    121642\n",
       " B     51710\n",
       " C     13623\n",
       " A       738\n",
       " F       494\n",
       " E        91\n",
       " G        20\n",
       " Name: count, dtype: int64,\n",
       " cat95\n",
       " C    87531\n",
       " D    79525\n",
       " E    17417\n",
       " A     3736\n",
       " B      109\n",
       " Name: count, dtype: int64,\n",
       " cat96\n",
       " E    174360\n",
       " D      7922\n",
       " B      2957\n",
       " G      2665\n",
       " F       343\n",
       " A        35\n",
       " C        24\n",
       " I        12\n",
       " Name: count, dtype: int64,\n",
       " cat97\n",
       " C    78127\n",
       " E    47450\n",
       " A    41970\n",
       " G    16745\n",
       " D     3779\n",
       " F      213\n",
       " B       34\n",
       " Name: count, dtype: int64,\n",
       " cat98\n",
       " A    105492\n",
       " D     50557\n",
       " C     21485\n",
       " E     10242\n",
       " B       542\n",
       " Name: count, dtype: int64,\n",
       " cat99\n",
       " P    79455\n",
       " T    72591\n",
       " R    10290\n",
       " D     8844\n",
       " S     7045\n",
       " N     2894\n",
       " K     2703\n",
       " F     2702\n",
       " E     1034\n",
       " C      310\n",
       " J      245\n",
       " H       93\n",
       " M       52\n",
       " I       38\n",
       " G       19\n",
       " O        3\n",
       " Name: count, dtype: int64,\n",
       " cat100\n",
       " F    42970\n",
       " I    39933\n",
       " L    19961\n",
       " K    13817\n",
       " G    12935\n",
       " J    12027\n",
       " H    10776\n",
       " A     9402\n",
       " N     7592\n",
       " B     6608\n",
       " O     5697\n",
       " M     5185\n",
       " C      836\n",
       " D      553\n",
       " E       26\n",
       " Name: count, dtype: int64,\n",
       " cat101\n",
       " A    106721\n",
       " D     17171\n",
       " C     16971\n",
       " G     10944\n",
       " F     10139\n",
       " J      7259\n",
       " I      6690\n",
       " M      3669\n",
       " L      3173\n",
       " Q      2762\n",
       " O      2493\n",
       " S       173\n",
       " R       138\n",
       " E         7\n",
       " B         3\n",
       " K         2\n",
       " N         1\n",
       " H         1\n",
       " U         1\n",
       " Name: count, dtype: int64,\n",
       " cat102\n",
       " A    177274\n",
       " B      5155\n",
       " C      4929\n",
       " E       482\n",
       " D       449\n",
       " G        15\n",
       " F        12\n",
       " H         1\n",
       " J         1\n",
       " Name: count, dtype: int64,\n",
       " cat103\n",
       " A    123737\n",
       " B     33342\n",
       " C     16508\n",
       " D      7806\n",
       " E      4473\n",
       " F      1528\n",
       " G       550\n",
       " H       190\n",
       " I       109\n",
       " J        45\n",
       " L        17\n",
       " K        11\n",
       " N         2\n",
       " Name: count, dtype: int64,\n",
       " cat104\n",
       " E    42925\n",
       " G    40660\n",
       " D    27611\n",
       " F    19228\n",
       " H    17187\n",
       " K    14297\n",
       " I    10919\n",
       " C     6949\n",
       " L     3486\n",
       " J     3138\n",
       " M     1156\n",
       " O      409\n",
       " N      153\n",
       " P       86\n",
       " A       68\n",
       " B       43\n",
       " Q        3\n",
       " Name: count, dtype: int64,\n",
       " cat105\n",
       " E    76493\n",
       " F    62892\n",
       " G    20613\n",
       " D    12172\n",
       " H    11258\n",
       " I     2941\n",
       " J      694\n",
       " K      486\n",
       " C      275\n",
       " M      171\n",
       " L      145\n",
       " A       77\n",
       " N       64\n",
       " P       15\n",
       " O        9\n",
       " B        5\n",
       " Q        4\n",
       " R        2\n",
       " T        1\n",
       " S        1\n",
       " Name: count, dtype: int64,\n",
       " cat106\n",
       " G    47165\n",
       " H    37713\n",
       " F    36143\n",
       " I    21433\n",
       " J    18281\n",
       " E    13000\n",
       " K     7958\n",
       " L     2971\n",
       " D     1934\n",
       " M     1176\n",
       " N      231\n",
       " C      129\n",
       " A       75\n",
       " O       66\n",
       " R       32\n",
       " B        9\n",
       " P        2\n",
       " Name: count, dtype: int64,\n",
       " cat107\n",
       " F    47310\n",
       " G    28560\n",
       " H    23461\n",
       " J    22405\n",
       " K    20236\n",
       " I    20066\n",
       " E    12521\n",
       " L     6976\n",
       " D     3225\n",
       " M     2067\n",
       " N      797\n",
       " C      213\n",
       " Q      140\n",
       " O      125\n",
       " P      100\n",
       " A       75\n",
       " U       32\n",
       " R        5\n",
       " B        2\n",
       " S        2\n",
       " Name: count, dtype: int64,\n",
       " cat108\n",
       " B    65512\n",
       " K    42435\n",
       " G    21421\n",
       " D    19160\n",
       " F    10242\n",
       " A     9299\n",
       " E     7968\n",
       " I     7243\n",
       " H     4305\n",
       " C      520\n",
       " J      213\n",
       " Name: count, dtype: int64,\n",
       " cat109\n",
       " BI    152918\n",
       " AB     21933\n",
       " BU      3142\n",
       " K       2999\n",
       " G       1353\n",
       "        ...  \n",
       " ZZ         1\n",
       " BP         1\n",
       " J          1\n",
       " AG         1\n",
       " AK         1\n",
       " Name: count, Length: 84, dtype: int64,\n",
       " cat110\n",
       " CL    25305\n",
       " EG    24654\n",
       " CS    24592\n",
       " EB    21396\n",
       " CO    17495\n",
       "       ...  \n",
       " DV        1\n",
       " AS        1\n",
       " CB        1\n",
       " EH        1\n",
       " S         1\n",
       " Name: count, Length: 131, dtype: int64,\n",
       " cat111\n",
       " A    128395\n",
       " C     32401\n",
       " E     14682\n",
       " G      7039\n",
       " I      3578\n",
       " K      1353\n",
       " M       473\n",
       " O       221\n",
       " Q        91\n",
       " S        38\n",
       " W        16\n",
       " U        16\n",
       " B         7\n",
       " F         3\n",
       " D         3\n",
       " Y         2\n",
       " Name: count, dtype: int64,\n",
       " cat112\n",
       " E     25148\n",
       " AH    18639\n",
       " AS    17669\n",
       " J     16222\n",
       " AF     9368\n",
       " AN     9138\n",
       " N      8453\n",
       " U      8356\n",
       " AV     7122\n",
       " AK     6726\n",
       " K      6059\n",
       " AI     4749\n",
       " S      4201\n",
       " AP     4000\n",
       " G      3168\n",
       " F      3149\n",
       " AW     3145\n",
       " A      2411\n",
       " AR     2365\n",
       " C      2257\n",
       " O      2183\n",
       " D      1645\n",
       " AD     1531\n",
       " AY     1414\n",
       " Y      1351\n",
       " AG     1331\n",
       " AT     1272\n",
       " AA     1241\n",
       " AM     1170\n",
       " AL     1130\n",
       " R      1123\n",
       " AX     1074\n",
       " I       940\n",
       " X       925\n",
       " AE      834\n",
       " Q       793\n",
       " V       693\n",
       " H       548\n",
       " AO      534\n",
       " T       521\n",
       " L       493\n",
       " W       461\n",
       " AC      454\n",
       " M       439\n",
       " AU      434\n",
       " B       423\n",
       " P       406\n",
       " AB      246\n",
       " BA      190\n",
       " AJ      144\n",
       " AQ       30\n",
       " Name: count, dtype: int64,\n",
       " cat113\n",
       " BM    26191\n",
       " AE    22030\n",
       " L     13058\n",
       " AX    12661\n",
       " Y     11374\n",
       "       ...  \n",
       " T         2\n",
       " B         1\n",
       " P         1\n",
       " AC        1\n",
       " AR        1\n",
       " Name: count, Length: 61, dtype: int64,\n",
       " cat114\n",
       " A    131693\n",
       " C     16793\n",
       " E     16475\n",
       " J      8199\n",
       " F      7905\n",
       " N      2455\n",
       " I      2432\n",
       " R       912\n",
       " L       870\n",
       " U       250\n",
       " O       240\n",
       " Q        43\n",
       " V        33\n",
       " B         6\n",
       " D         5\n",
       " S         4\n",
       " X         1\n",
       " W         1\n",
       " G         1\n",
       " Name: count, dtype: int64,\n",
       " cat115\n",
       " K    43866\n",
       " O    26813\n",
       " J    23895\n",
       " N    22438\n",
       " P    21538\n",
       " L    16125\n",
       " M    12444\n",
       " Q     8258\n",
       " I     7090\n",
       " H     2793\n",
       " R     2038\n",
       " G      315\n",
       " F      269\n",
       " S      250\n",
       " A       75\n",
       " T       56\n",
       " U       26\n",
       " E       11\n",
       " W        6\n",
       " X        5\n",
       " D        4\n",
       " B        2\n",
       " C        1\n",
       " Name: count, dtype: int64,\n",
       " cat116\n",
       " HK    21061\n",
       " DJ    20244\n",
       " CK    10162\n",
       " DP     9202\n",
       " GS     8736\n",
       "       ...  \n",
       " FN        1\n",
       " BB        1\n",
       " HU        1\n",
       " IX        1\n",
       " AE        1\n",
       " Name: count, Length: 326, dtype: int64]"
      ]
     },
     "execution_count": 11,
     "metadata": {},
     "output_type": "execute_result"
    }
   ],
   "source": [
    "categorical_column_distribution"
   ]
  },
  {
   "cell_type": "code",
   "execution_count": 12,
   "metadata": {
    "ExecuteTime": {
     "end_time": "2024-10-20T01:35:29.171224Z",
     "start_time": "2024-10-20T01:35:29.155601Z"
    },
    "id": "o4o29lX51OWI"
   },
   "outputs": [],
   "source": [
    "length_categorical_columns = list(map(lambda x:len(x),categorical_column_distribution))"
   ]
  },
  {
   "cell_type": "code",
   "execution_count": 13,
   "metadata": {
    "ExecuteTime": {
     "end_time": "2024-10-20T01:35:30.455724Z",
     "start_time": "2024-10-20T01:35:30.440101Z"
    },
    "id": "59SyBBZ01OWI"
   },
   "outputs": [],
   "source": [
    "#count the number of columns having the same number of unique values\n",
    "distribution_dict = dict()\n",
    "for val in length_categorical_columns:\n",
    "    if val in distribution_dict.keys():\n",
    "        count = distribution_dict[val]\n",
    "        distribution_dict[val] = count+1\n",
    "    else:\n",
    "        distribution_dict[val]=1"
   ]
  },
  {
   "cell_type": "code",
   "execution_count": 14,
   "metadata": {
    "ExecuteTime": {
     "end_time": "2024-10-20T01:35:31.920148Z",
     "start_time": "2024-10-20T01:35:31.904524Z"
    },
    "colab": {
     "base_uri": "https://localhost:8080/"
    },
    "executionInfo": {
     "elapsed": 16,
     "status": "ok",
     "timestamp": 1644231859263,
     "user": {
      "displayName": "Siddhi Jadhav",
      "photoUrl": "https://lh3.googleusercontent.com/a/default-user=s64",
      "userId": "08402691859170607175"
     },
     "user_tz": -330
    },
    "id": "Akt_FwCC1OWI",
    "outputId": "6988aefe-cc56-4467-8991-92b02de5a753"
   },
   "outputs": [
    {
     "data": {
      "text/plain": [
       "{2: 72,\n",
       " 3: 4,\n",
       " 4: 12,\n",
       " 8: 3,\n",
       " 7: 4,\n",
       " 5: 3,\n",
       " 16: 2,\n",
       " 15: 1,\n",
       " 19: 2,\n",
       " 9: 1,\n",
       " 13: 1,\n",
       " 17: 2,\n",
       " 20: 2,\n",
       " 11: 1,\n",
       " 84: 1,\n",
       " 131: 1,\n",
       " 51: 1,\n",
       " 61: 1,\n",
       " 23: 1,\n",
       " 326: 1}"
      ]
     },
     "execution_count": 14,
     "metadata": {},
     "output_type": "execute_result"
    }
   ],
   "source": [
    "distribution_dict"
   ]
  },
  {
   "cell_type": "markdown",
   "metadata": {
    "id": "qr7_jeXV1OWJ"
   },
   "source": [
    "### Plot a bar-graph"
   ]
  },
  {
   "cell_type": "code",
   "execution_count": 15,
   "metadata": {
    "ExecuteTime": {
     "end_time": "2024-10-20T01:35:34.387210Z",
     "start_time": "2024-10-20T01:35:33.715843Z"
    },
    "colab": {
     "base_uri": "https://localhost:8080/",
     "height": 304
    },
    "executionInfo": {
     "elapsed": 8,
     "status": "ok",
     "timestamp": 1644231859264,
     "user": {
      "displayName": "Siddhi Jadhav",
      "photoUrl": "https://lh3.googleusercontent.com/a/default-user=s64",
      "userId": "08402691859170607175"
     },
     "user_tz": -330
    },
    "id": "Tlyq3NWj1OWJ",
    "outputId": "3b0be7f5-290c-4331-acb1-774329291437"
   },
   "outputs": [
    {
     "data": {
      "image/png": "[encoded data removed]",
      "text/plain": [
       "<Figure size 640x480 with 1 Axes>"
      ]
     },
     "metadata": {},
     "output_type": "display_data"
    }
   ],
   "source": [
    "#plot showing the count of columns having same number of unique values\n",
    "keys = distribution_dict.keys()\n",
    "values = distribution_dict.values()\n",
    "plt.bar(keys, values,width=0.8)\n",
    "plt.xlabel('Distinct Values in Categorical Variable', fontsize=15)\n",
    "plt.ylabel('Count', fontsize=15)\n",
    "plt.title('Categorical Labels with Same Unique Values',fontsize=20)\n",
    "plt.rcParams['figure.figsize'] = [48/2.54, 10/2.54]\n",
    "plt.show()"
   ]
  },
  {
   "cell_type": "markdown",
   "metadata": {
    "id": "L3gY1Y271OWJ"
   },
   "source": [
    "##### check the distribution of continuous variables"
   ]
  },
  {
   "cell_type": "code",
   "execution_count": 16,
   "metadata": {
    "ExecuteTime": {
     "end_time": "2024-10-20T01:35:36.059702Z",
     "start_time": "2024-10-20T01:35:35.827015Z"
    },
    "colab": {
     "base_uri": "https://localhost:8080/",
     "height": 300
    },
    "executionInfo": {
     "elapsed": 581,
     "status": "ok",
     "timestamp": 1644231859838,
     "user": {
      "displayName": "Siddhi Jadhav",
      "photoUrl": "https://lh3.googleusercontent.com/a/default-user=s64",
      "userId": "08402691859170607175"
     },
     "user_tz": -330
    },
    "id": "7RhjPQuK1OWJ",
    "outputId": "79b27915-f879-4a6f-f158-5de803726985"
   },
   "outputs": [
    {
     "data": {
      "text/html": [
       "<div>\n",
       "<style scoped>\n",
       "    .dataframe tbody tr th:only-of-type {\n",
       "        vertical-align: middle;\n",
       "    }\n",
       "\n",
       "    .dataframe tbody tr th {\n",
       "        vertical-align: top;\n",
       "    }\n",
       "\n",
       "    .dataframe thead th {\n",
       "        text-align: right;\n",
       "    }\n",
       "</style>\n",
       "<table border=\"1\" class=\"dataframe\">\n",
       "  <thead>\n",
       "    <tr style=\"text-align: right;\">\n",
       "      <th></th>\n",
       "      <th>cont1</th>\n",
       "      <th>cont2</th>\n",
       "      <th>cont3</th>\n",
       "      <th>cont4</th>\n",
       "      <th>cont5</th>\n",
       "      <th>cont6</th>\n",
       "      <th>cont7</th>\n",
       "      <th>cont8</th>\n",
       "      <th>cont9</th>\n",
       "      <th>cont10</th>\n",
       "      <th>cont11</th>\n",
       "      <th>cont12</th>\n",
       "      <th>cont13</th>\n",
       "      <th>cont14</th>\n",
       "    </tr>\n",
       "  </thead>\n",
       "  <tbody>\n",
       "    <tr>\n",
       "      <th>count</th>\n",
       "      <td>188318.000000</td>\n",
       "      <td>188318.000000</td>\n",
       "      <td>188318.000000</td>\n",
       "      <td>188318.000000</td>\n",
       "      <td>188318.000000</td>\n",
       "      <td>188318.000000</td>\n",
       "      <td>188318.000000</td>\n",
       "      <td>188318.000000</td>\n",
       "      <td>188318.000000</td>\n",
       "      <td>188318.000000</td>\n",
       "      <td>188318.000000</td>\n",
       "      <td>188318.000000</td>\n",
       "      <td>188318.000000</td>\n",
       "      <td>188318.000000</td>\n",
       "    </tr>\n",
       "    <tr>\n",
       "      <th>mean</th>\n",
       "      <td>0.493861</td>\n",
       "      <td>0.507188</td>\n",
       "      <td>0.498918</td>\n",
       "      <td>0.491812</td>\n",
       "      <td>0.487428</td>\n",
       "      <td>0.490945</td>\n",
       "      <td>0.484970</td>\n",
       "      <td>0.486437</td>\n",
       "      <td>0.485506</td>\n",
       "      <td>0.498066</td>\n",
       "      <td>0.493511</td>\n",
       "      <td>0.493150</td>\n",
       "      <td>0.493138</td>\n",
       "      <td>0.495717</td>\n",
       "    </tr>\n",
       "    <tr>\n",
       "      <th>std</th>\n",
       "      <td>0.187640</td>\n",
       "      <td>0.207202</td>\n",
       "      <td>0.202105</td>\n",
       "      <td>0.211292</td>\n",
       "      <td>0.209027</td>\n",
       "      <td>0.205273</td>\n",
       "      <td>0.178450</td>\n",
       "      <td>0.199370</td>\n",
       "      <td>0.181660</td>\n",
       "      <td>0.185877</td>\n",
       "      <td>0.209737</td>\n",
       "      <td>0.209427</td>\n",
       "      <td>0.212777</td>\n",
       "      <td>0.222488</td>\n",
       "    </tr>\n",
       "    <tr>\n",
       "      <th>min</th>\n",
       "      <td>0.000016</td>\n",
       "      <td>0.001149</td>\n",
       "      <td>0.002634</td>\n",
       "      <td>0.176921</td>\n",
       "      <td>0.281143</td>\n",
       "      <td>0.012683</td>\n",
       "      <td>0.069503</td>\n",
       "      <td>0.236880</td>\n",
       "      <td>0.000080</td>\n",
       "      <td>0.000000</td>\n",
       "      <td>0.035321</td>\n",
       "      <td>0.036232</td>\n",
       "      <td>0.000228</td>\n",
       "      <td>0.179722</td>\n",
       "    </tr>\n",
       "    <tr>\n",
       "      <th>25%</th>\n",
       "      <td>0.346090</td>\n",
       "      <td>0.358319</td>\n",
       "      <td>0.336963</td>\n",
       "      <td>0.327354</td>\n",
       "      <td>0.281143</td>\n",
       "      <td>0.336105</td>\n",
       "      <td>0.350175</td>\n",
       "      <td>0.312800</td>\n",
       "      <td>0.358970</td>\n",
       "      <td>0.364580</td>\n",
       "      <td>0.310961</td>\n",
       "      <td>0.311661</td>\n",
       "      <td>0.315758</td>\n",
       "      <td>0.294610</td>\n",
       "    </tr>\n",
       "    <tr>\n",
       "      <th>50%</th>\n",
       "      <td>0.475784</td>\n",
       "      <td>0.555782</td>\n",
       "      <td>0.527991</td>\n",
       "      <td>0.452887</td>\n",
       "      <td>0.422268</td>\n",
       "      <td>0.440945</td>\n",
       "      <td>0.438285</td>\n",
       "      <td>0.441060</td>\n",
       "      <td>0.441450</td>\n",
       "      <td>0.461190</td>\n",
       "      <td>0.457203</td>\n",
       "      <td>0.462286</td>\n",
       "      <td>0.363547</td>\n",
       "      <td>0.407403</td>\n",
       "    </tr>\n",
       "    <tr>\n",
       "      <th>75%</th>\n",
       "      <td>0.623912</td>\n",
       "      <td>0.681761</td>\n",
       "      <td>0.634224</td>\n",
       "      <td>0.652072</td>\n",
       "      <td>0.643315</td>\n",
       "      <td>0.655021</td>\n",
       "      <td>0.591045</td>\n",
       "      <td>0.623580</td>\n",
       "      <td>0.566820</td>\n",
       "      <td>0.614590</td>\n",
       "      <td>0.678924</td>\n",
       "      <td>0.675759</td>\n",
       "      <td>0.689974</td>\n",
       "      <td>0.724623</td>\n",
       "    </tr>\n",
       "    <tr>\n",
       "      <th>max</th>\n",
       "      <td>0.984975</td>\n",
       "      <td>0.862654</td>\n",
       "      <td>0.944251</td>\n",
       "      <td>0.954297</td>\n",
       "      <td>0.983674</td>\n",
       "      <td>0.997162</td>\n",
       "      <td>1.000000</td>\n",
       "      <td>0.980200</td>\n",
       "      <td>0.995400</td>\n",
       "      <td>0.994980</td>\n",
       "      <td>0.998742</td>\n",
       "      <td>0.998484</td>\n",
       "      <td>0.988494</td>\n",
       "      <td>0.844848</td>\n",
       "    </tr>\n",
       "  </tbody>\n",
       "</table>\n",
       "</div>"
      ],
      "text/plain": [
       "               cont1          cont2          cont3          cont4  \\\n",
       "count  188318.000000  188318.000000  188318.000000  188318.000000   \n",
       "mean        0.493861       0.507188       0.498918       0.491812   \n",
       "std         0.187640       0.207202       0.202105       0.211292   \n",
       "min         0.000016       0.001149       0.002634       0.176921   \n",
       "25%         0.346090       0.358319       0.336963       0.327354   \n",
       "50%         0.475784       0.555782       0.527991       0.452887   \n",
       "75%         0.623912       0.681761       0.634224       0.652072   \n",
       "max         0.984975       0.862654       0.944251       0.954297   \n",
       "\n",
       "               cont5          cont6          cont7          cont8  \\\n",
       "count  188318.000000  188318.000000  188318.000000  188318.000000   \n",
       "mean        0.487428       0.490945       0.484970       0.486437   \n",
       "std         0.209027       0.205273       0.178450       0.199370   \n",
       "min         0.281143       0.012683       0.069503       0.236880   \n",
       "25%         0.281143       0.336105       0.350175       0.312800   \n",
       "50%         0.422268       0.440945       0.438285       0.441060   \n",
       "75%         0.643315       0.655021       0.591045       0.623580   \n",
       "max         0.983674       0.997162       1.000000       0.980200   \n",
       "\n",
       "               cont9         cont10         cont11         cont12  \\\n",
       "count  188318.000000  188318.000000  188318.000000  188318.000000   \n",
       "mean        0.485506       0.498066       0.493511       0.493150   \n",
       "std         0.181660       0.185877       0.209737       0.209427   \n",
       "min         0.000080       0.000000       0.035321       0.036232   \n",
       "25%         0.358970       0.364580       0.310961       0.311661   \n",
       "50%         0.441450       0.461190       0.457203       0.462286   \n",
       "75%         0.566820       0.614590       0.678924       0.675759   \n",
       "max         0.995400       0.994980       0.998742       0.998484   \n",
       "\n",
       "              cont13         cont14  \n",
       "count  188318.000000  188318.000000  \n",
       "mean        0.493138       0.495717  \n",
       "std         0.212777       0.222488  \n",
       "min         0.000228       0.179722  \n",
       "25%         0.315758       0.294610  \n",
       "50%         0.363547       0.407403  \n",
       "75%         0.689974       0.724623  \n",
       "max         0.988494       0.844848  "
      ]
     },
     "execution_count": 16,
     "metadata": {},
     "output_type": "execute_result"
    }
   ],
   "source": [
    "#filter out the continous columns and view the descriptive statistics\n",
    "train_data[continuous_columns].describe()"
   ]
  },
  {
   "cell_type": "markdown",
   "metadata": {
    "id": "Fugh_DDj1OWK"
   },
   "source": [
    "***"
   ]
  },
  {
   "cell_type": "markdown",
   "metadata": {
    "id": "h56s_ijW1OWK"
   },
   "source": [
    "#### Data cleaning and pre-processing"
   ]
  },
  {
   "cell_type": "code",
   "execution_count": 17,
   "metadata": {
    "ExecuteTime": {
     "end_time": "2024-10-20T01:35:40.808572Z",
     "start_time": "2024-10-20T01:35:39.673721Z"
    },
    "colab": {
     "base_uri": "https://localhost:8080/"
    },
    "executionInfo": {
     "elapsed": 489,
     "status": "ok",
     "timestamp": 1644231860324,
     "user": {
      "displayName": "Siddhi Jadhav",
      "photoUrl": "https://lh3.googleusercontent.com/a/default-user=s64",
      "userId": "08402691859170607175"
     },
     "user_tz": -330
    },
    "id": "owitMaVo1OWK",
    "outputId": "c8e7d934-e5d2-4935-a29e-4958d068368d"
   },
   "outputs": [
    {
     "data": {
      "text/plain": [
       "np.int64(0)"
      ]
     },
     "execution_count": 17,
     "metadata": {},
     "output_type": "execute_result"
    }
   ],
   "source": [
    "#Check if there is any missing value in the columuns\n",
    "#value of 0 indicates no missing values\n",
    "missing_values = train_data.isnull().sum()\n",
    "np.max(missing_values)"
   ]
  },
  {
   "cell_type": "code",
   "execution_count": 18,
   "metadata": {
    "ExecuteTime": {
     "end_time": "2024-10-20T01:35:41.601418Z",
     "start_time": "2024-10-20T01:35:41.554058Z"
    },
    "id": "CNcFg3Fl1OWK"
   },
   "outputs": [],
   "source": [
    "#Manually insert a blank value across 5 rows\n",
    "total_rows = train_data.shape[0]\n",
    "columns_with_blanks_cat = np.random.randint(1,116,2)\n",
    "columns_with_blanks_cont = np.random.randint(117,130,3)\n",
    "columns_with_blank = np.append(columns_with_blanks_cat,columns_with_blanks_cont)\n",
    "\n",
    "#for every column insert 5 blanks at random locations\n",
    "for col in columns_with_blank:\n",
    "    rows_with_blanks = np.random.randint(1,total_rows,5)\n",
    "    train_data.iloc[rows_with_blanks,col] = np.nan"
   ]
  },
  {
   "cell_type": "code",
   "execution_count": 19,
   "metadata": {
    "ExecuteTime": {
     "end_time": "2024-10-20T01:35:43.159751Z",
     "start_time": "2024-10-20T01:35:42.447920Z"
    },
    "colab": {
     "base_uri": "https://localhost:8080/"
    },
    "executionInfo": {
     "elapsed": 1369,
     "status": "ok",
     "timestamp": 1644231861692,
     "user": {
      "displayName": "Siddhi Jadhav",
      "photoUrl": "https://lh3.googleusercontent.com/a/default-user=s64",
      "userId": "08402691859170607175"
     },
     "user_tz": -330
    },
    "id": "QzLzhMIF1OWK",
    "outputId": "3c4e6502-bbd1-420e-d36e-fa13b4498d14"
   },
   "outputs": [
    {
     "data": {
      "text/plain": [
       "np.int64(10)"
      ]
     },
     "execution_count": 19,
     "metadata": {},
     "output_type": "execute_result"
    }
   ],
   "source": [
    "#Validate the number of columns with missing values\n",
    "missing_values = train_data.isnull().sum()\n",
    "np.max(missing_values)"
   ]
  },
  {
   "cell_type": "code",
   "execution_count": 20,
   "metadata": {
    "ExecuteTime": {
     "end_time": "2024-10-20T01:35:44.209674Z",
     "start_time": "2024-10-20T01:35:43.347250Z"
    },
    "colab": {
     "base_uri": "https://localhost:8080/"
    },
    "executionInfo": {
     "elapsed": 658,
     "status": "ok",
     "timestamp": 1644231862348,
     "user": {
      "displayName": "Siddhi Jadhav",
      "photoUrl": "https://lh3.googleusercontent.com/a/default-user=s64",
      "userId": "08402691859170607175"
     },
     "user_tz": -330
    },
    "id": "By_NdamI1OWK",
    "outputId": "d6ee8a0b-e7be-460b-b491-4d0d0d206a92"
   },
   "outputs": [
    {
     "name": "stdout",
     "output_type": "stream",
     "text": [
      "Index(['cat63', 'cat73', 'cont6', 'cont11'], dtype='object')\n"
     ]
    }
   ],
   "source": [
    "#Displaying the columns with missing values\n",
    "columns_with_missing = train_data.columns[train_data.isnull().any()]\n",
    "print(columns_with_missing)"
   ]
  },
  {
   "cell_type": "markdown",
   "metadata": {
    "id": "1NFCzph_1OWL"
   },
   "source": [
    "##### Data Preprocessing class with the following functions:\n",
    "<ul>\n",
    "    <li><b>missing_value_continuous</b>: function to handle missing values of continuous variables</li>\n",
    "    <li><b>missing_value_categorical</b>: function to handle missing values of categorical variables</li>\n",
    "    <li><b>outlier_treatment</b>: function to handle continuous outliers in the dataset</li>\n",
    "</ul>"
   ]
  },
  {
   "cell_type": "code",
   "execution_count": 21,
   "metadata": {
    "ExecuteTime": {
     "end_time": "2024-10-20T01:35:44.268660Z",
     "start_time": "2024-10-20T01:35:44.239270Z"
    },
    "id": "dHuJsNBO1OWL"
   },
   "outputs": [],
   "source": [
    "class Data_preprocessing:\n",
    "    def __init__(self,train_data):\n",
    "        self.train_data = train_data\n",
    "    \n",
    "    def missing_value_continuous(self,column_names_with_specific_type,imputation_type=\"mean\"):\n",
    "        if imputation_type==\"mean\":\n",
    "            mean_imputer = SimpleImputer(missing_values=np.nan, strategy='mean')\n",
    "            mean_imputer.fit(self.train_data[column_names_with_specific_type])\n",
    "            self.train_data[column_names_with_specific_type]=mean_imputer.transform(self.train_data[column_names_with_specific_type])\n",
    "        if imputation_type==\"median\":\n",
    "            median_imputer = SimpleImputer(missing_values=np.nan, strategy='median')\n",
    "            median_imputer.fit(self.train_data[column_names_with_specific_type])\n",
    "            self.train_data[column_names_with_specific_type]=median_imputer.transform(self.train_data[column_names_with_specific_type])\n",
    "        return self.train_data\n",
    "    \n",
    "    def missing_value_categorical(self,column_names_with_specific_type,imputation_type=\"most_frequent\"):\n",
    "        most_frequent = SimpleImputer(strategy=\"most_frequent\")\n",
    "        most_frequent.fit(self.train_data[column_names_with_specific_type])\n",
    "        self.train_data[column_names_with_specific_type] = most_frequent.transform(train_data[column_names_with_specific_type])\n",
    "        return self.train_data\n",
    "    \n",
    "    def outlier_treatment(self,Q1,Q3,IQR,columns_with_outlier,action):\n",
    "        if action==\"median\":\n",
    "            for i in range(len(columns_with_outlier)):\n",
    "                column_name = columns_with_outlier[i]\n",
    "                meadian_outlier = np.median(self.train_data[column_name])\n",
    "                self.train_data.loc[self.train_data[((self.train_data[column_name]<(Q1[column_name]-(1.5*IQR[column_name])))|(self.train_data[column_name]>(Q3[column_name]+(1.5*IQR[column_name]))))].index,column_name]=meadian_outlier\n",
    "        if action==\"mean\":\n",
    "            for i in range(len(columns_with_outlier)):\n",
    "                column_name = columns_with_outlier[i]\n",
    "                mean_outlier = np.mean(self.train_data[column_name])\n",
    "                self.train_data.loc[self.train_data[((self.train_data[column_name]<(Q1[column_name]-(1.5*IQR[column_name])))|(self.train_data[column_name]>(Q3[column_name]+(1.5*IQR[column_name]))))].index,column_name]=mean_outlier\n",
    "        if action==\"remove\":\n",
    "            for i in range(len(columns_with_outlier)):\n",
    "                column_name = columns_with_outlier[i]\n",
    "                self.train_data = self.train_data[~((self.train_data[column_name]<(Q1[column_name]-(1.5*IQR[column_name])))|(self.train_data[column_name]>(Q3[column_name]+(1.5*IQR[column_name]))))]\n",
    "        return self.train_data"
   ]
  },
  {
   "cell_type": "code",
   "execution_count": 22,
   "metadata": {
    "ExecuteTime": {
     "end_time": "2024-10-20T01:35:49.962653Z",
     "start_time": "2024-10-20T01:35:44.882260Z"
    },
    "id": "rfmKXSpT1OWL"
   },
   "outputs": [],
   "source": [
    "Data_preprocessing_obj = Data_preprocessing(train_data)\n",
    "train_data = Data_preprocessing_obj.missing_value_continuous(continuous_columns,\"median\")\n",
    "train_data = Data_preprocessing_obj.missing_value_categorical(categorical_columns)"
   ]
  },
  {
   "cell_type": "markdown",
   "metadata": {
    "id": "h2t9GhOR1OWL"
   },
   "source": [
    "***"
   ]
  },
  {
   "cell_type": "markdown",
   "metadata": {
    "id": "bRvo2nAZ1OWL"
   },
   "source": [
    "##### Section on handling outliers in the dataset"
   ]
  },
  {
   "cell_type": "code",
   "execution_count": 23,
   "metadata": {
    "ExecuteTime": {
     "start_time": "2024-10-20T01:35:52.158991Z"
    },
    "colab": {
     "base_uri": "https://localhost:8080/",
     "height": 262
    },
    "executionInfo": {
     "elapsed": 685,
     "status": "ok",
     "timestamp": 1644231867153,
     "user": {
      "displayName": "Siddhi Jadhav",
      "photoUrl": "https://lh3.googleusercontent.com/a/default-user=s64",
      "userId": "08402691859170607175"
     },
     "user_tz": -330
    },
    "id": "BLdHUMNA1OWL",
    "jupyter": {
     "is_executing": true
    },
    "outputId": "626beba7-e8bf-4d81-a99c-7e75c779c5c4"
   },
   "outputs": [
    {
     "data": {
      "image/png": "[encoded data removed]",
      "text/plain": [
       "<Figure size 1889.76x393.701 with 1 Axes>"
      ]
     },
     "metadata": {},
     "output_type": "display_data"
    }
   ],
   "source": [
    "ax = sns.boxplot(data=train_data[continuous_columns], orient=\"h\", palette=\"Set2\")"
   ]
  },
  {
   "cell_type": "code",
   "execution_count": 24,
   "metadata": {
    "ExecuteTime": {
     "end_time": "2024-10-19T16:38:57.166502Z",
     "start_time": "2024-10-19T16:38:57.138502Z"
    },
    "id": "SAk7-XCr1OWL"
   },
   "outputs": [],
   "source": [
    "columns_with_outlier = ['cont7','cont9','cont10']"
   ]
  },
  {
   "cell_type": "code",
   "execution_count": 25,
   "metadata": {
    "ExecuteTime": {
     "end_time": "2024-10-19T16:38:57.542744Z",
     "start_time": "2024-10-19T16:38:57.311503Z"
    },
    "id": "0HG1hz0S1OWM"
   },
   "outputs": [],
   "source": [
    "#compute the interquartile range for all continuous columns\n",
    "Q1 = train_data[continuous_columns].quantile(0.25)\n",
    "Q3 = train_data[continuous_columns].quantile(0.75)\n",
    "IQR = (Q3-Q1)\n",
    "train_data = Data_preprocessing_obj.outlier_treatment(Q1,Q3,IQR,columns_with_outlier,\"median\")"
   ]
  },
  {
   "cell_type": "code",
   "execution_count": 26,
   "metadata": {
    "ExecuteTime": {
     "end_time": "2024-10-19T16:39:08.119808Z",
     "start_time": "2024-10-19T16:38:57.625099Z"
    },
    "colab": {
     "base_uri": "https://localhost:8080/",
     "height": 262
    },
    "executionInfo": {
     "elapsed": 739,
     "status": "ok",
     "timestamp": 1644231868806,
     "user": {
      "displayName": "Siddhi Jadhav",
      "photoUrl": "https://lh3.googleusercontent.com/a/default-user=s64",
      "userId": "08402691859170607175"
     },
     "user_tz": -330
    },
    "id": "nvSzfVFC1OWM",
    "outputId": "95b1e6db-20f8-483b-b675-83e4ef9fda78"
   },
   "outputs": [
    {
     "data": {
      "image/png": "[encoded data removed]",
      "text/plain": [
       "<Figure size 1889.76x393.701 with 1 Axes>"
      ]
     },
     "metadata": {},
     "output_type": "display_data"
    }
   ],
   "source": [
    "ax = sns.boxplot(data=train_data[continuous_columns], orient=\"h\", palette=\"Set2\")"
   ]
  },
  {
   "cell_type": "markdown",
   "metadata": {
    "id": "fUaT9gGM1OWM"
   },
   "source": [
    "***"
   ]
  },
  {
   "cell_type": "markdown",
   "metadata": {
    "id": "CEGUZXmE1OWM"
   },
   "source": [
    "##### Feature elimination techniques for continuous and categorical features"
   ]
  },
  {
   "cell_type": "code",
   "execution_count": 27,
   "metadata": {
    "ExecuteTime": {
     "end_time": "2024-10-19T16:39:08.388110Z",
     "start_time": "2024-10-19T16:39:08.350111Z"
    },
    "id": "qqw-sXmy1OWM"
   },
   "outputs": [],
   "source": [
    "#Function for feature selection of numeric variables\n",
    "#Remove variables with constant variance\n",
    "#Remove variables with Quasi-Constant variance with a fixed threshold\n",
    "#Remove correlated variables\n",
    "\n",
    "def feature_selection_numerical_variables(train_data,qthreshold,corr_threshold,exclude_numerical_cols_list):\n",
    "    num_colums = ['int16', 'int32', 'int64', 'float16', 'float32', 'float64']\n",
    "    numerical_columns = list(train_data.select_dtypes(include=num_colums).columns)\n",
    "    numerical_columns = [column for column in numerical_columns if column not in exclude_numerical_cols_list]\n",
    "    \n",
    "    #remove variables with constant variance\n",
    "    constant_filter = VarianceThreshold(threshold=0)\n",
    "    constant_filter.fit(train_data[numerical_columns])\n",
    "    constant_columns = [column for column in train_data[numerical_columns].columns \n",
    "                    if column not in train_data[numerical_columns].columns[constant_filter.get_support()]]\n",
    "    if len(constant_columns)>0:\n",
    "        train_data.drop(labels=constant_columns, axis=1, inplace=True)\n",
    "\n",
    "    #remove deleted columns from dataframe\n",
    "    numerical_columns = [column for column in numerical_columns if column not in constant_columns]\n",
    "        \n",
    "    #remove variables with qconstant variance\n",
    "    #Remove quasi-constant variables\n",
    "    qconstant_filter = VarianceThreshold(threshold=qthreshold)\n",
    "    qconstant_filter.fit(train_data[numerical_columns])\n",
    "    qconstant_columns = [column for column in train_data[numerical_columns].columns \n",
    "                         if column not in train_data[numerical_columns].columns[constant_filter.get_support()]]\n",
    "    if len(qconstant_columns)>0:\n",
    "        train_data.drop(labels=qconstant_columns, axis=1, inplace=True)\n",
    "    \n",
    "    #remove deleted columns from dataframe\n",
    "    numerical_columns = [column for column in numerical_columns if column not in qconstant_columns]\n",
    "    \n",
    "    #remove correlated variables\n",
    "    correlated_features = set()\n",
    "    correlation_matrix = train_data[numerical_columns].corr()\n",
    "    ax = sns.heatmap(\n",
    "    correlation_matrix, \n",
    "    vmin=-1, vmax=1, center=0,\n",
    "    cmap=sns.diverging_palette(20, 220, n=200),\n",
    "    square=True)\n",
    "    ax.set_xticklabels(\n",
    "        ax.get_xticklabels(),\n",
    "        rotation=45,\n",
    "        horizontalalignment='right');\n",
    "    #print(correlation_matrix)\n",
    "    \n",
    "    for i in range(len(correlation_matrix.columns)):\n",
    "        for j in range(i):\n",
    "            if abs(correlation_matrix.iloc[i, j]) > corr_threshold:\n",
    "                colname = correlation_matrix.columns[i]\n",
    "                colcompared = correlation_matrix.columns[j]\n",
    "                #check if the column compared against is not in the columns excluded list\n",
    "                if colcompared not in correlated_features:\n",
    "                    correlated_features.add(colname)\n",
    "    train_data.drop(labels=correlated_features, axis=1, inplace=True)\n",
    "    \n",
    "    return train_data,constant_columns,qconstant_columns,correlated_features\n",
    "    "
   ]
  },
  {
   "cell_type": "code",
   "execution_count": 28,
   "metadata": {
    "ExecuteTime": {
     "end_time": "2024-10-19T16:39:10.825217Z",
     "start_time": "2024-10-19T16:39:08.560111Z"
    },
    "colab": {
     "base_uri": "https://localhost:8080/",
     "height": 286
    },
    "executionInfo": {
     "elapsed": 690,
     "status": "ok",
     "timestamp": 1644231869490,
     "user": {
      "displayName": "Siddhi Jadhav",
      "photoUrl": "https://lh3.googleusercontent.com/a/default-user=s64",
      "userId": "08402691859170607175"
     },
     "user_tz": -330
    },
    "id": "HQFsuYFq1OWM",
    "outputId": "9289b64b-c926-4c51-fe56-5563c8154b7c"
   },
   "outputs": [
    {
     "data": {
      "image/png": "[encoded data removed]",
      "text/plain": [
       "<Figure size 1889.76x393.701 with 2 Axes>"
      ]
     },
     "metadata": {},
     "output_type": "display_data"
    }
   ],
   "source": [
    "train_data,constant_columns,qconstant_columns,correlated_features =feature_selection_numerical_variables(train_data,0.01,0.75,['loss','id'],)"
   ]
  },
  {
   "cell_type": "code",
   "execution_count": 29,
   "metadata": {
    "ExecuteTime": {
     "end_time": "2024-10-19T16:39:11.015349Z",
     "start_time": "2024-10-19T16:39:10.988349Z"
    },
    "colab": {
     "base_uri": "https://localhost:8080/"
    },
    "executionInfo": {
     "elapsed": 8,
     "status": "ok",
     "timestamp": 1644231869491,
     "user": {
      "displayName": "Siddhi Jadhav",
      "photoUrl": "https://lh3.googleusercontent.com/a/default-user=s64",
      "userId": "08402691859170607175"
     },
     "user_tz": -330
    },
    "id": "CkPlrXHD1OWN",
    "outputId": "54d848ae-6596-40bb-e2c9-6f17528ae079"
   },
   "outputs": [
    {
     "data": {
      "text/plain": [
       "{'cont10', 'cont12', 'cont6'}"
      ]
     },
     "execution_count": 29,
     "metadata": {},
     "output_type": "execute_result"
    }
   ],
   "source": [
    "correlated_features"
   ]
  },
  {
   "cell_type": "markdown",
   "metadata": {
    "id": "7ADJ2JeA1OWN"
   },
   "source": [
    "##### Handling correlation between categorical variables"
   ]
  },
  {
   "cell_type": "code",
   "execution_count": 30,
   "metadata": {
    "ExecuteTime": {
     "end_time": "2024-10-19T16:39:18.138540Z",
     "start_time": "2024-10-19T16:39:11.145734Z"
    },
    "id": "dOwH4lQa1OWN"
   },
   "outputs": [],
   "source": [
    "# save the encoders to disk to be fitted on test data\n",
    "for cf1 in categorical_columns:\n",
    "    le = LabelEncoder()\n",
    "    le.fit(train_data[cf1].unique())\n",
    "    filename = cf1+\".sav\"\n",
    "    pickle.dump(le, open(filename, 'wb'))\n",
    "    train_data[cf1] = le.transform(train_data[cf1])"
   ]
  },
  {
   "cell_type": "code",
   "execution_count": 31,
   "metadata": {
    "ExecuteTime": {
     "end_time": "2024-10-19T16:47:14.710966Z",
     "start_time": "2024-10-19T16:47:14.343507Z"
    },
    "id": "DXMNfxHJ1OWN"
   },
   "outputs": [],
   "source": [
    "#snippet to calculate the unique values with a categorical columns\n",
    "df = pd.DataFrame(columns=[\"Column_Name\",\"Count\"])\n",
    "for cat in categorical_columns:\n",
    "    unique_value_count = len(train_data[cat].unique())\n",
    "    new_row = {'Column_Name': cat, \"Count\": int(unique_value_count)}\n",
    "    # Convert the dictionary into a DataFrame\n",
    "    new_row_df = pd.DataFrame([new_row])\n",
    "    # Concatenate the new row to the existing DataFrame\n",
    "    df = pd.concat([df, new_row_df], ignore_index=True)\n",
    "    # df = df.append({'Column_Name': cat, \"Count\":int(unique_value_count)}, ignore_index=True)\n",
    "columns_unique_value = np.array(df.Count.value_counts().index)"
   ]
  },
  {
   "cell_type": "code",
   "execution_count": 32,
   "metadata": {
    "ExecuteTime": {
     "end_time": "2024-10-19T16:47:30.028788Z",
     "start_time": "2024-10-19T16:47:18.330026Z"
    },
    "id": "nQ_9aZRq1OWN"
   },
   "outputs": [],
   "source": [
    "#snippet to identify the dependent/correlated categorical variables and drop them\n",
    "columns_to_drop_cat = set()\n",
    "correlated_columns = dict()\n",
    "for unique_value_count in columns_unique_value:\n",
    "    if unique_value_count>1:\n",
    "        categorical_columns = df.loc[df.Count==unique_value_count,'Column_Name']\n",
    "        categorical_columns = categorical_columns.reset_index(drop=True)\n",
    "        columns_length=len(categorical_columns)\n",
    "        for col in range(columns_length-1):\n",
    "            column_to_compare = categorical_columns[col]\n",
    "            columns_compare_against = categorical_columns[(col+1):columns_length]\n",
    "            chi_scores = chi2(train_data[columns_compare_against],train_data[column_to_compare])\n",
    "            if column_to_compare not in columns_to_drop_cat:\n",
    "                columns_to_be_dropped = [i for i in range(len(columns_compare_against)) if chi_scores[1][i]<=0.05]\n",
    "                columns_to_drop_array = np.array(columns_compare_against)[columns_to_be_dropped]\n",
    "                correlated_columns[column_to_compare]=columns_to_drop_array\n",
    "                columns_to_drop_cat.update(columns_to_drop_array)"
   ]
  },
  {
   "cell_type": "code",
   "execution_count": 33,
   "metadata": {
    "ExecuteTime": {
     "end_time": "2024-10-19T16:47:34.708291Z",
     "start_time": "2024-10-19T16:47:34.630165Z"
    },
    "id": "bJRD8k7y1OWN"
   },
   "outputs": [],
   "source": [
    "train_data = train_data.drop(columns_to_drop_cat,axis=1)"
   ]
  },
  {
   "cell_type": "code",
   "execution_count": 34,
   "metadata": {
    "ExecuteTime": {
     "end_time": "2024-10-19T16:47:36.724603Z",
     "start_time": "2024-10-19T16:47:36.661225Z"
    },
    "id": "t_j54Kxt1OWO"
   },
   "outputs": [],
   "source": [
    "correlated_features = list(correlated_features)\n",
    "columns_to_drop_cat = list(columns_to_drop_cat)\n",
    "columns_to_drop_cat.extend(correlated_features)\n",
    "columns_to_drop = columns_to_drop_cat.copy()\n",
    "\n",
    "#output the columns_to_drop file to a csv\n",
    "columns_to_drop_df=pd.DataFrame(columns_to_drop,columns=['colnames'])\n",
    "columns_to_drop_df.to_csv(\"columns_to_drop.csv\",index=False)"
   ]
  },
  {
   "cell_type": "markdown",
   "metadata": {
    "id": "VkuIE9SH1OWO"
   },
   "source": [
    "***"
   ]
  },
  {
   "cell_type": "markdown",
   "metadata": {
    "id": "GsN-fkEP1OWO"
   },
   "source": [
    "##### Visualizing the Output Variable"
   ]
  },
  {
   "cell_type": "code",
   "execution_count": 35,
   "metadata": {
    "ExecuteTime": {
     "end_time": "2024-10-19T16:49:13.275156Z",
     "start_time": "2024-10-19T16:49:11.108109Z"
    },
    "colab": {
     "base_uri": "https://localhost:8080/",
     "height": 351
    },
    "executionInfo": {
     "elapsed": 1324,
     "status": "ok",
     "timestamp": 1644231894574,
     "user": {
      "displayName": "Siddhi Jadhav",
      "photoUrl": "https://lh3.googleusercontent.com/a/default-user=s64",
      "userId": "08402691859170607175"
     },
     "user_tz": -330
    },
    "id": "CZ2NNVIa1OWO",
    "outputId": "d0146f3f-eeb2-41d0-ecdd-7a84bc4c1e9b"
   },
   "outputs": [
    {
     "data": {
      "text/plain": [
       "<Axes: xlabel='loss', ylabel='Count'>"
      ]
     },
     "execution_count": 35,
     "metadata": {},
     "output_type": "execute_result"
    },
    {
     "data": {
      "image/png": "[encoded data removed]",
      "text/plain": [
       "<Figure size 1889.76x393.701 with 1 Axes>"
      ]
     },
     "metadata": {},
     "output_type": "display_data"
    }
   ],
   "source": [
    "#Visualizing the distribution of loss value\n",
    "# Density Plot and Histogram of loss\n",
    "# sns.distplot(train_data['loss'], hist=True, kde=True, \n",
    "#              bins=int(180/5), color = 'darkblue', \n",
    "#              hist_kws={'edgecolor':'black'},\n",
    "#              kde_kws={'linewidth': 4})\n",
    "sns.histplot(train_data['loss'], bins=int(180/5), color='darkblue', \n",
    "             kde=True, edgecolor='black', linewidth=4)"
   ]
  },
  {
   "cell_type": "code",
   "execution_count": 36,
   "metadata": {
    "ExecuteTime": {
     "end_time": "2024-10-19T16:49:29.171385Z",
     "start_time": "2024-10-19T16:49:29.135052Z"
    },
    "id": "-0db97FV1OWO"
   },
   "outputs": [],
   "source": [
    "#We will use a log transformation on the dependent variable to reduce the scale\n",
    "train_data['loss'] = np.log(train_data['loss'])"
   ]
  },
  {
   "cell_type": "code",
   "execution_count": 37,
   "metadata": {
    "ExecuteTime": {
     "end_time": "2024-10-19T16:50:07.403295Z",
     "start_time": "2024-10-19T16:50:04.021819Z"
    },
    "colab": {
     "base_uri": "https://localhost:8080/",
     "height": 351
    },
    "executionInfo": {
     "elapsed": 2113,
     "status": "ok",
     "timestamp": 1644231896684,
     "user": {
      "displayName": "Siddhi Jadhav",
      "photoUrl": "https://lh3.googleusercontent.com/a/default-user=s64",
      "userId": "08402691859170607175"
     },
     "user_tz": -330
    },
    "id": "s3xkzOnR1OWO",
    "outputId": "2dfe5de8-1672-4aca-f3f1-bbf09e529590"
   },
   "outputs": [
    {
     "data": {
      "text/plain": [
       "<Axes: xlabel='loss', ylabel='Count'>"
      ]
     },
     "execution_count": 37,
     "metadata": {},
     "output_type": "execute_result"
    },
    {
     "data": {
      "image/png": "[encoded data removed]",
      "text/plain": [
       "<Figure size 1889.76x393.701 with 1 Axes>"
      ]
     },
     "metadata": {},
     "output_type": "display_data"
    }
   ],
   "source": [
    "# Visualizing the distribution of loss value\n",
    "# Density Plot and Histogram of loss\n",
    "# sns.distplot(train_data['loss'], hist=True, kde=True, \n",
    "#              bins=int(180/5), color = 'darkblue', \n",
    "#              hist_kws={'edgecolor':'black'},\n",
    "#              kde_kws={'linewidth': 4})\n",
    "sns.histplot(train_data['loss'], bins=int(180/5), color='darkblue', \n",
    "             kde=True, edgecolor='black', linewidth=4)"
   ]
  },
  {
   "cell_type": "code",
   "execution_count": 38,
   "metadata": {
    "ExecuteTime": {
     "end_time": "2024-10-19T16:50:47.065164Z",
     "start_time": "2024-10-19T16:50:46.168501Z"
    },
    "colab": {
     "base_uri": "https://localhost:8080/",
     "height": 351
    },
    "executionInfo": {
     "elapsed": 1540,
     "status": "ok",
     "timestamp": 1644231898216,
     "user": {
      "displayName": "Siddhi Jadhav",
      "photoUrl": "https://lh3.googleusercontent.com/a/default-user=s64",
      "userId": "08402691859170607175"
     },
     "user_tz": -330
    },
    "id": "0zXj7HvT1OWO",
    "outputId": "bb2df28a-6efc-4ac2-8d8a-5c0e71705f40"
   },
   "outputs": [
    {
     "data": {
      "text/plain": [
       "<Axes: xlabel='loss', ylabel='Count'>"
      ]
     },
     "execution_count": 38,
     "metadata": {},
     "output_type": "execute_result"
    },
    {
     "data": {
      "image/png": "[encoded data removed]",
      "text/plain": [
       "<Figure size 1889.76x393.701 with 1 Axes>"
      ]
     },
     "metadata": {},
     "output_type": "display_data"
    }
   ],
   "source": [
    "#taking a anti-log to transform the variable back to its original scale\n",
    "# sns.distplot(np.exp(train_data['loss']), hist=True, kde=True, \n",
    "#              bins=int(180/5), color = 'darkblue', \n",
    "#              hist_kws={'edgecolor':'black'},\n",
    "#              kde_kws={'linewidth': 4})\n",
    "sns.histplot(np.exp(train_data['loss']), bins=int(180/5), color='darkblue', \n",
    "             kde=True, edgecolor='black', linewidth=4)"
   ]
  },
  {
   "cell_type": "markdown",
   "metadata": {
    "id": "KdppTDM01OWO"
   },
   "source": [
    "***"
   ]
  },
  {
   "cell_type": "markdown",
   "metadata": {
    "id": "hkWEfFu01OWP"
   },
   "source": [
    "##### Fit an ML Model"
   ]
  },
  {
   "cell_type": "code",
   "execution_count": 39,
   "metadata": {
    "ExecuteTime": {
     "end_time": "2024-10-19T16:50:52.779198Z",
     "start_time": "2024-10-19T16:50:52.112471Z"
    },
    "id": "TQ66o5jw1OWP"
   },
   "outputs": [],
   "source": [
    "from sklearn.ensemble import RandomForestRegressor\n",
    "from sklearn.datasets import make_regression\n",
    "from sklearn.model_selection import train_test_split\n",
    "from sklearn.metrics import mean_squared_error\n",
    "from sklearn.model_selection import RandomizedSearchCV"
   ]
  },
  {
   "cell_type": "code",
   "execution_count": 40,
   "metadata": {
    "ExecuteTime": {
     "end_time": "2024-10-19T16:50:54.862677Z",
     "start_time": "2024-10-19T16:50:54.552152Z"
    },
    "id": "WdV3DNBs1OWP"
   },
   "outputs": [],
   "source": [
    "#convert the int64 columns categorical\n",
    "Column_datatypes= train_data.dtypes\n",
    "Integer_columns = list(Column_datatypes.where(lambda x: x ==\"int64\").dropna().index.values)\n",
    "train_data[Integer_columns] = train_data[Integer_columns].astype('category',copy=False)\n",
    "X,y = train_data.drop(['id','loss'],axis=1),train_data['loss']\n",
    "X_train, X_test, y_train, y_test = train_test_split(X, y, test_size=0.33, random_state=42)"
   ]
  },
  {
   "cell_type": "code",
   "execution_count": 41,
   "metadata": {
    "ExecuteTime": {
     "end_time": "2024-10-19T16:55:35.233815Z",
     "start_time": "2024-10-19T16:50:57.166142Z"
    },
    "colab": {
     "base_uri": "https://localhost:8080/"
    },
    "executionInfo": {
     "elapsed": 254073,
     "status": "ok",
     "timestamp": 1644232152903,
     "user": {
      "displayName": "Siddhi Jadhav",
      "photoUrl": "https://lh3.googleusercontent.com/a/default-user=s64",
      "userId": "08402691859170607175"
     },
     "user_tz": -330
    },
    "id": "caF5zKKW1OWP",
    "outputId": "bba9c3ba-ad7a-488a-a969-a9388ca7edfb"
   },
   "outputs": [
    {
     "data": {
      "text/html": [
       "<style>#sk-container-id-1 {\n",
       "  /* Definition of color scheme common for light and dark mode */\n",
       "  --sklearn-color-text: black;\n",
       "  --sklearn-color-line: gray;\n",
       "  /* Definition of color scheme for unfitted estimators */\n",
       "  --sklearn-color-unfitted-level-0: #fff5e6;\n",
       "  --sklearn-color-unfitted-level-1: #f6e4d2;\n",
       "  --sklearn-color-unfitted-level-2: #ffe0b3;\n",
       "  --sklearn-color-unfitted-level-3: chocolate;\n",
       "  /* Definition of color scheme for fitted estimators */\n",
       "  --sklearn-color-fitted-level-0: #f0f8ff;\n",
       "  --sklearn-color-fitted-level-1: #d4ebff;\n",
       "  --sklearn-color-fitted-level-2: #b3dbfd;\n",
       "  --sklearn-color-fitted-level-3: cornflowerblue;\n",
       "\n",
       "  /* Specific color for light theme */\n",
       "  --sklearn-color-text-on-default-background: var(--sg-text-color, var(--theme-code-foreground, var(--jp-content-font-color1, black)));\n",
       "  --sklearn-color-background: var(--sg-background-color, var(--theme-background, var(--jp-layout-color0, white)));\n",
       "  --sklearn-color-border-box: var(--sg-text-color, var(--theme-code-foreground, var(--jp-content-font-color1, black)));\n",
       "  --sklearn-color-icon: #696969;\n",
       "\n",
       "  @media (prefers-color-scheme: dark) {\n",
       "    /* Redefinition of color scheme for dark theme */\n",
       "    --sklearn-color-text-on-default-background: var(--sg-text-color, var(--theme-code-foreground, var(--jp-content-font-color1, white)));\n",
       "    --sklearn-color-background: var(--sg-background-color, var(--theme-background, var(--jp-layout-color0, #111)));\n",
       "    --sklearn-color-border-box: var(--sg-text-color, var(--theme-code-foreground, var(--jp-content-font-color1, white)));\n",
       "    --sklearn-color-icon: #878787;\n",
       "  }\n",
       "}\n",
       "\n",
       "#sk-container-id-1 {\n",
       "  color: var(--sklearn-color-text);\n",
       "}\n",
       "\n",
       "#sk-container-id-1 pre {\n",
       "  padding: 0;\n",
       "}\n",
       "\n",
       "#sk-container-id-1 input.sk-hidden--visually {\n",
       "  border: 0;\n",
       "  clip: rect(1px 1px 1px 1px);\n",
       "  clip: rect(1px, 1px, 1px, 1px);\n",
       "  height: 1px;\n",
       "  margin: -1px;\n",
       "  overflow: hidden;\n",
       "  padding: 0;\n",
       "  position: absolute;\n",
       "  width: 1px;\n",
       "}\n",
       "\n",
       "#sk-container-id-1 div.sk-dashed-wrapped {\n",
       "  border: 1px dashed var(--sklearn-color-line);\n",
       "  margin: 0 0.4em 0.5em 0.4em;\n",
       "  box-sizing: border-box;\n",
       "  padding-bottom: 0.4em;\n",
       "  background-color: var(--sklearn-color-background);\n",
       "}\n",
       "\n",
       "#sk-container-id-1 div.sk-container {\n",
       "  /* jupyter's `normalize.less` sets `[hidden] { display: none; }`\n",
       "     but bootstrap.min.css set `[hidden] { display: none !important; }`\n",
       "     so we also need the `!important` here to be able to override the\n",
       "     default hidden behavior on the sphinx rendered scikit-learn.org.\n",
       "     See: https://github.com/scikit-learn/scikit-learn/issues/21755 */\n",
       "  display: inline-block !important;\n",
       "  position: relative;\n",
       "}\n",
       "\n",
       "#sk-container-id-1 div.sk-text-repr-fallback {\n",
       "  display: none;\n",
       "}\n",
       "\n",
       "div.sk-parallel-item,\n",
       "div.sk-serial,\n",
       "div.sk-item {\n",
       "  /* draw centered vertical line to link estimators */\n",
       "  background-image: linear-gradient(var(--sklearn-color-text-on-default-background), var(--sklearn-color-text-on-default-background));\n",
       "  background-size: 2px 100%;\n",
       "  background-repeat: no-repeat;\n",
       "  background-position: center center;\n",
       "}\n",
       "\n",
       "/* Parallel-specific style estimator block */\n",
       "\n",
       "#sk-container-id-1 div.sk-parallel-item::after {\n",
       "  content: \"\";\n",
       "  width: 100%;\n",
       "  border-bottom: 2px solid var(--sklearn-color-text-on-default-background);\n",
       "  flex-grow: 1;\n",
       "}\n",
       "\n",
       "#sk-container-id-1 div.sk-parallel {\n",
       "  display: flex;\n",
       "  align-items: stretch;\n",
       "  justify-content: center;\n",
       "  background-color: var(--sklearn-color-background);\n",
       "  position: relative;\n",
       "}\n",
       "\n",
       "#sk-container-id-1 div.sk-parallel-item {\n",
       "  display: flex;\n",
       "  flex-direction: column;\n",
       "}\n",
       "\n",
       "#sk-container-id-1 div.sk-parallel-item:first-child::after {\n",
       "  align-self: flex-end;\n",
       "  width: 50%;\n",
       "}\n",
       "\n",
       "#sk-container-id-1 div.sk-parallel-item:last-child::after {\n",
       "  align-self: flex-start;\n",
       "  width: 50%;\n",
       "}\n",
       "\n",
       "#sk-container-id-1 div.sk-parallel-item:only-child::after {\n",
       "  width: 0;\n",
       "}\n",
       "\n",
       "/* Serial-specific style estimator block */\n",
       "\n",
       "#sk-container-id-1 div.sk-serial {\n",
       "  display: flex;\n",
       "  flex-direction: column;\n",
       "  align-items: center;\n",
       "  background-color: var(--sklearn-color-background);\n",
       "  padding-right: 1em;\n",
       "  padding-left: 1em;\n",
       "}\n",
       "\n",
       "\n",
       "/* Toggleable style: style used for estimator/Pipeline/ColumnTransformer box that is\n",
       "clickable and can be expanded/collapsed.\n",
       "- Pipeline and ColumnTransformer use this feature and define the default style\n",
       "- Estimators will overwrite some part of the style using the `sk-estimator` class\n",
       "*/\n",
       "\n",
       "/* Pipeline and ColumnTransformer style (default) */\n",
       "\n",
       "#sk-container-id-1 div.sk-toggleable {\n",
       "  /* Default theme specific background. It is overwritten whether we have a\n",
       "  specific estimator or a Pipeline/ColumnTransformer */\n",
       "  background-color: var(--sklearn-color-background);\n",
       "}\n",
       "\n",
       "/* Toggleable label */\n",
       "#sk-container-id-1 label.sk-toggleable__label {\n",
       "  cursor: pointer;\n",
       "  display: block;\n",
       "  width: 100%;\n",
       "  margin-bottom: 0;\n",
       "  padding: 0.5em;\n",
       "  box-sizing: border-box;\n",
       "  text-align: center;\n",
       "}\n",
       "\n",
       "#sk-container-id-1 label.sk-toggleable__label-arrow:before {\n",
       "  /* Arrow on the left of the label */\n",
       "  content: \"▸\";\n",
       "  float: left;\n",
       "  margin-right: 0.25em;\n",
       "  color: var(--sklearn-color-icon);\n",
       "}\n",
       "\n",
       "#sk-container-id-1 label.sk-toggleable__label-arrow:hover:before {\n",
       "  color: var(--sklearn-color-text);\n",
       "}\n",
       "\n",
       "/* Toggleable content - dropdown */\n",
       "\n",
       "#sk-container-id-1 div.sk-toggleable__content {\n",
       "  max-height: 0;\n",
       "  max-width: 0;\n",
       "  overflow: hidden;\n",
       "  text-align: left;\n",
       "  /* unfitted */\n",
       "  background-color: var(--sklearn-color-unfitted-level-0);\n",
       "}\n",
       "\n",
       "#sk-container-id-1 div.sk-toggleable__content.fitted {\n",
       "  /* fitted */\n",
       "  background-color: var(--sklearn-color-fitted-level-0);\n",
       "}\n",
       "\n",
       "#sk-container-id-1 div.sk-toggleable__content pre {\n",
       "  margin: 0.2em;\n",
       "  border-radius: 0.25em;\n",
       "  color: var(--sklearn-color-text);\n",
       "  /* unfitted */\n",
       "  background-color: var(--sklearn-color-unfitted-level-0);\n",
       "}\n",
       "\n",
       "#sk-container-id-1 div.sk-toggleable__content.fitted pre {\n",
       "  /* unfitted */\n",
       "  background-color: var(--sklearn-color-fitted-level-0);\n",
       "}\n",
       "\n",
       "#sk-container-id-1 input.sk-toggleable__control:checked~div.sk-toggleable__content {\n",
       "  /* Expand drop-down */\n",
       "  max-height: 200px;\n",
       "  max-width: 100%;\n",
       "  overflow: auto;\n",
       "}\n",
       "\n",
       "#sk-container-id-1 input.sk-toggleable__control:checked~label.sk-toggleable__label-arrow:before {\n",
       "  content: \"▾\";\n",
       "}\n",
       "\n",
       "/* Pipeline/ColumnTransformer-specific style */\n",
       "\n",
       "#sk-container-id-1 div.sk-label input.sk-toggleable__control:checked~label.sk-toggleable__label {\n",
       "  color: var(--sklearn-color-text);\n",
       "  background-color: var(--sklearn-color-unfitted-level-2);\n",
       "}\n",
       "\n",
       "#sk-container-id-1 div.sk-label.fitted input.sk-toggleable__control:checked~label.sk-toggleable__label {\n",
       "  background-color: var(--sklearn-color-fitted-level-2);\n",
       "}\n",
       "\n",
       "/* Estimator-specific style */\n",
       "\n",
       "/* Colorize estimator box */\n",
       "#sk-container-id-1 div.sk-estimator input.sk-toggleable__control:checked~label.sk-toggleable__label {\n",
       "  /* unfitted */\n",
       "  background-color: var(--sklearn-color-unfitted-level-2);\n",
       "}\n",
       "\n",
       "#sk-container-id-1 div.sk-estimator.fitted input.sk-toggleable__control:checked~label.sk-toggleable__label {\n",
       "  /* fitted */\n",
       "  background-color: var(--sklearn-color-fitted-level-2);\n",
       "}\n",
       "\n",
       "#sk-container-id-1 div.sk-label label.sk-toggleable__label,\n",
       "#sk-container-id-1 div.sk-label label {\n",
       "  /* The background is the default theme color */\n",
       "  color: var(--sklearn-color-text-on-default-background);\n",
       "}\n",
       "\n",
       "/* On hover, darken the color of the background */\n",
       "#sk-container-id-1 div.sk-label:hover label.sk-toggleable__label {\n",
       "  color: var(--sklearn-color-text);\n",
       "  background-color: var(--sklearn-color-unfitted-level-2);\n",
       "}\n",
       "\n",
       "/* Label box, darken color on hover, fitted */\n",
       "#sk-container-id-1 div.sk-label.fitted:hover label.sk-toggleable__label.fitted {\n",
       "  color: var(--sklearn-color-text);\n",
       "  background-color: var(--sklearn-color-fitted-level-2);\n",
       "}\n",
       "\n",
       "/* Estimator label */\n",
       "\n",
       "#sk-container-id-1 div.sk-label label {\n",
       "  font-family: monospace;\n",
       "  font-weight: bold;\n",
       "  display: inline-block;\n",
       "  line-height: 1.2em;\n",
       "}\n",
       "\n",
       "#sk-container-id-1 div.sk-label-container {\n",
       "  text-align: center;\n",
       "}\n",
       "\n",
       "/* Estimator-specific */\n",
       "#sk-container-id-1 div.sk-estimator {\n",
       "  font-family: monospace;\n",
       "  border: 1px dotted var(--sklearn-color-border-box);\n",
       "  border-radius: 0.25em;\n",
       "  box-sizing: border-box;\n",
       "  margin-bottom: 0.5em;\n",
       "  /* unfitted */\n",
       "  background-color: var(--sklearn-color-unfitted-level-0);\n",
       "}\n",
       "\n",
       "#sk-container-id-1 div.sk-estimator.fitted {\n",
       "  /* fitted */\n",
       "  background-color: var(--sklearn-color-fitted-level-0);\n",
       "}\n",
       "\n",
       "/* on hover */\n",
       "#sk-container-id-1 div.sk-estimator:hover {\n",
       "  /* unfitted */\n",
       "  background-color: var(--sklearn-color-unfitted-level-2);\n",
       "}\n",
       "\n",
       "#sk-container-id-1 div.sk-estimator.fitted:hover {\n",
       "  /* fitted */\n",
       "  background-color: var(--sklearn-color-fitted-level-2);\n",
       "}\n",
       "\n",
       "/* Specification for estimator info (e.g. \"i\" and \"?\") */\n",
       "\n",
       "/* Common style for \"i\" and \"?\" */\n",
       "\n",
       ".sk-estimator-doc-link,\n",
       "a:link.sk-estimator-doc-link,\n",
       "a:visited.sk-estimator-doc-link {\n",
       "  float: right;\n",
       "  font-size: smaller;\n",
       "  line-height: 1em;\n",
       "  font-family: monospace;\n",
       "  background-color: var(--sklearn-color-background);\n",
       "  border-radius: 1em;\n",
       "  height: 1em;\n",
       "  width: 1em;\n",
       "  text-decoration: none !important;\n",
       "  margin-left: 1ex;\n",
       "  /* unfitted */\n",
       "  border: var(--sklearn-color-unfitted-level-1) 1pt solid;\n",
       "  color: var(--sklearn-color-unfitted-level-1);\n",
       "}\n",
       "\n",
       ".sk-estimator-doc-link.fitted,\n",
       "a:link.sk-estimator-doc-link.fitted,\n",
       "a:visited.sk-estimator-doc-link.fitted {\n",
       "  /* fitted */\n",
       "  border: var(--sklearn-color-fitted-level-1) 1pt solid;\n",
       "  color: var(--sklearn-color-fitted-level-1);\n",
       "}\n",
       "\n",
       "/* On hover */\n",
       "div.sk-estimator:hover .sk-estimator-doc-link:hover,\n",
       ".sk-estimator-doc-link:hover,\n",
       "div.sk-label-container:hover .sk-estimator-doc-link:hover,\n",
       ".sk-estimator-doc-link:hover {\n",
       "  /* unfitted */\n",
       "  background-color: var(--sklearn-color-unfitted-level-3);\n",
       "  color: var(--sklearn-color-background);\n",
       "  text-decoration: none;\n",
       "}\n",
       "\n",
       "div.sk-estimator.fitted:hover .sk-estimator-doc-link.fitted:hover,\n",
       ".sk-estimator-doc-link.fitted:hover,\n",
       "div.sk-label-container:hover .sk-estimator-doc-link.fitted:hover,\n",
       ".sk-estimator-doc-link.fitted:hover {\n",
       "  /* fitted */\n",
       "  background-color: var(--sklearn-color-fitted-level-3);\n",
       "  color: var(--sklearn-color-background);\n",
       "  text-decoration: none;\n",
       "}\n",
       "\n",
       "/* Span, style for the box shown on hovering the info icon */\n",
       ".sk-estimator-doc-link span {\n",
       "  display: none;\n",
       "  z-index: 9999;\n",
       "  position: relative;\n",
       "  font-weight: normal;\n",
       "  right: .2ex;\n",
       "  padding: .5ex;\n",
       "  margin: .5ex;\n",
       "  width: min-content;\n",
       "  min-width: 20ex;\n",
       "  max-width: 50ex;\n",
       "  color: var(--sklearn-color-text);\n",
       "  box-shadow: 2pt 2pt 4pt #999;\n",
       "  /* unfitted */\n",
       "  background: var(--sklearn-color-unfitted-level-0);\n",
       "  border: .5pt solid var(--sklearn-color-unfitted-level-3);\n",
       "}\n",
       "\n",
       ".sk-estimator-doc-link.fitted span {\n",
       "  /* fitted */\n",
       "  background: var(--sklearn-color-fitted-level-0);\n",
       "  border: var(--sklearn-color-fitted-level-3);\n",
       "}\n",
       "\n",
       ".sk-estimator-doc-link:hover span {\n",
       "  display: block;\n",
       "}\n",
       "\n",
       "/* \"?\"-specific style due to the `<a>` HTML tag */\n",
       "\n",
       "#sk-container-id-1 a.estimator_doc_link {\n",
       "  float: right;\n",
       "  font-size: 1rem;\n",
       "  line-height: 1em;\n",
       "  font-family: monospace;\n",
       "  background-color: var(--sklearn-color-background);\n",
       "  border-radius: 1rem;\n",
       "  height: 1rem;\n",
       "  width: 1rem;\n",
       "  text-decoration: none;\n",
       "  /* unfitted */\n",
       "  color: var(--sklearn-color-unfitted-level-1);\n",
       "  border: var(--sklearn-color-unfitted-level-1) 1pt solid;\n",
       "}\n",
       "\n",
       "#sk-container-id-1 a.estimator_doc_link.fitted {\n",
       "  /* fitted */\n",
       "  border: var(--sklearn-color-fitted-level-1) 1pt solid;\n",
       "  color: var(--sklearn-color-fitted-level-1);\n",
       "}\n",
       "\n",
       "/* On hover */\n",
       "#sk-container-id-1 a.estimator_doc_link:hover {\n",
       "  /* unfitted */\n",
       "  background-color: var(--sklearn-color-unfitted-level-3);\n",
       "  color: var(--sklearn-color-background);\n",
       "  text-decoration: none;\n",
       "}\n",
       "\n",
       "#sk-container-id-1 a.estimator_doc_link.fitted:hover {\n",
       "  /* fitted */\n",
       "  background-color: var(--sklearn-color-fitted-level-3);\n",
       "}\n",
       "</style><div id=\"sk-container-id-1\" class=\"sk-top-container\"><div class=\"sk-text-repr-fallback\"><pre>RandomForestRegressor(oob_score=True, random_state=42)</pre><b>In a Jupyter environment, please rerun this cell to show the HTML representation or trust the notebook. <br />On GitHub, the HTML representation is unable to render, please try loading this page with nbviewer.org.</b></div><div class=\"sk-container\" hidden><div class=\"sk-item\"><div class=\"sk-estimator fitted sk-toggleable\"><input class=\"sk-toggleable__control sk-hidden--visually\" id=\"sk-estimator-id-1\" type=\"checkbox\" checked><label for=\"sk-estimator-id-1\" class=\"sk-toggleable__label fitted sk-toggleable__label-arrow fitted\">&nbsp;&nbsp;RandomForestRegressor<a class=\"sk-estimator-doc-link fitted\" rel=\"noreferrer\" target=\"_blank\" href=\"https://scikit-learn.org/1.5/modules/generated/sklearn.ensemble.RandomForestRegressor.html\">?<span>Documentation for RandomForestRegressor</span></a><span class=\"sk-estimator-doc-link fitted\">i<span>Fitted</span></span></label><div class=\"sk-toggleable__content fitted\"><pre>RandomForestRegressor(oob_score=True, random_state=42)</pre></div> </div></div></div></div>"
      ],
      "text/plain": [
       "RandomForestRegressor(oob_score=True, random_state=42)"
      ]
     },
     "execution_count": 41,
     "metadata": {},
     "output_type": "execute_result"
    }
   ],
   "source": [
    "# Instantiate model with 100 decision trees\n",
    "rf_base = RandomForestRegressor(n_estimators = 100, random_state = 42,oob_score = True)\n",
    "rf_base.fit(X_train, y_train)"
   ]
  },
  {
   "cell_type": "code",
   "execution_count": 42,
   "metadata": {
    "ExecuteTime": {
     "end_time": "2024-10-19T16:56:34.344050Z",
     "start_time": "2024-10-19T16:56:23.385507Z"
    },
    "id": "q23G-Y4F1OWP"
   },
   "outputs": [],
   "source": [
    "#save the model output\n",
    "pickle.dump(rf_base, open(\"trained_models/basemodel_rf\", 'wb'))"
   ]
  },
  {
   "cell_type": "code",
   "execution_count": 43,
   "metadata": {
    "ExecuteTime": {
     "end_time": "2024-10-19T16:58:15.645436Z",
     "start_time": "2024-10-19T16:58:02.427042Z"
    },
    "id": "Y5JFwglm1OWP"
   },
   "outputs": [],
   "source": [
    "#load the saved model and predict on the test data\n",
    "basedmodel_rf = pickle.load(open(\"trained_models/basemodel_rf\", 'rb'))"
   ]
  },
  {
   "cell_type": "code",
   "execution_count": 44,
   "metadata": {
    "ExecuteTime": {
     "end_time": "2024-10-19T16:58:35.888971Z",
     "start_time": "2024-10-19T16:58:29.883764Z"
    },
    "colab": {
     "base_uri": "https://localhost:8080/"
    },
    "executionInfo": {
     "elapsed": 6560,
     "status": "ok",
     "timestamp": 1644232168972,
     "user": {
      "displayName": "Siddhi Jadhav",
      "photoUrl": "https://lh3.googleusercontent.com/a/default-user=s64",
      "userId": "08402691859170607175"
     },
     "user_tz": -330
    },
    "id": "gnSzfNZb1OWP",
    "outputId": "902be3c2-16c5-4d21-c09d-2a2ced8c2d64"
   },
   "outputs": [
    {
     "name": "stdout",
     "output_type": "stream",
     "text": [
      "Base model accuracy: 0.6666680840123658\n"
     ]
    }
   ],
   "source": [
    "#validate the accuracy of the base model\n",
    "#compare the model accuracies\n",
    "Y_test_predict_base = basedmodel_rf.predict(X_test)\n",
    "print(\"Base model accuracy:\",np.sqrt(mean_squared_error(y_test, Y_test_predict_base)))"
   ]
  },
  {
   "cell_type": "markdown",
   "metadata": {
    "id": "cQZMjvsX1OWP"
   },
   "source": [
    "***"
   ]
  },
  {
   "cell_type": "markdown",
   "metadata": {
    "id": "ef0nOAkw1OWP"
   },
   "source": [
    "###### HyperParameter Tuning Using RandomSearchCV"
   ]
  },
  {
   "cell_type": "code",
   "execution_count": 45,
   "metadata": {
    "ExecuteTime": {
     "end_time": "2024-10-19T16:58:39.443952Z",
     "start_time": "2024-10-19T16:58:39.414949Z"
    },
    "id": "Ob9fzHcq1OWQ"
   },
   "outputs": [],
   "source": [
    "#number of trees\n",
    "n_estimators = [100,200,300,400,500]\n",
    "# Number of features to consider at every split\n",
    "max_features = [1.0, 'sqrt']\n",
    "# Maximum number of levels in tree\n",
    "max_depth = [int(x) for x in np.linspace(10, 110, num = 11)]\n",
    "# Minimum number of samples required to split a node\n",
    "min_samples_split = [200,400,600]\n",
    "# Minimum number of samples required at each leaf node\n",
    "min_samples_leaf = [1, 2, 4]\n",
    "# Method of selecting samples for training each tree\n",
    "bootstrap = [True, False]\n",
    "\n",
    "# Create the random grid\n",
    "random_grid = {'n_estimators': n_estimators,\n",
    "               'max_features': max_features,\n",
    "               'max_depth': max_depth,\n",
    "               'min_samples_split': min_samples_split,\n",
    "               'min_samples_leaf': min_samples_leaf,\n",
    "               'bootstrap': bootstrap}"
   ]
  },
  {
   "cell_type": "code",
   "execution_count": 46,
   "metadata": {
    "ExecuteTime": {
     "end_time": "2024-10-19T17:01:37.859046Z",
     "start_time": "2024-10-19T16:58:42.412441Z"
    },
    "colab": {
     "base_uri": "https://localhost:8080/"
    },
    "executionInfo": {
     "elapsed": 3631079,
     "status": "ok",
     "timestamp": 1644235800043,
     "user": {
      "displayName": "Siddhi Jadhav",
      "photoUrl": "https://lh3.googleusercontent.com/a/default-user=s64",
      "userId": "08402691859170607175"
     },
     "user_tz": -330
    },
    "id": "FxxUC4kz1OWQ",
    "outputId": "39ad300f-bdd9-48e8-cc75-2207e4c10168"
   },
   "outputs": [
    {
     "name": "stdout",
     "output_type": "stream",
     "text": [
      "Fitting 3 folds for each of 5 candidates, totalling 15 fits\n"
     ]
    }
   ],
   "source": [
    "# Use the random grid to search for best hyperparameters\n",
    "# base model to tune\n",
    "rf = RandomForestRegressor()\n",
    "\n",
    "# 5 fold cross validation, \n",
    "# search across 150 different combinations, and use all available cores\n",
    "rf_tuned = RandomizedSearchCV(estimator = rf, param_distributions = random_grid, cv = 3,n_iter = 5, verbose=2, random_state=42, n_jobs = -1)\n",
    "\n",
    "# Fit the random search model\n",
    "rf_tuned.fit(X_train, y_train)\n",
    "\n",
    "#save the model output\n",
    "pickle.dump(rf_tuned, open(\"trained_models/tunedmodel_rf\", 'wb'))"
   ]
  },
  {
   "cell_type": "code",
   "execution_count": 47,
   "metadata": {
    "ExecuteTime": {
     "end_time": "2024-10-19T17:01:37.908810Z",
     "start_time": "2024-10-19T17:01:37.869037Z"
    },
    "colab": {
     "base_uri": "https://localhost:8080/"
    },
    "executionInfo": {
     "elapsed": 32,
     "status": "ok",
     "timestamp": 1644235800043,
     "user": {
      "displayName": "Siddhi Jadhav",
      "photoUrl": "https://lh3.googleusercontent.com/a/default-user=s64",
      "userId": "08402691859170607175"
     },
     "user_tz": -330
    },
    "id": "_qMV8fDP1OWQ",
    "outputId": "da0af3fb-ebf8-4007-af25-aba1d8beb8cd"
   },
   "outputs": [
    {
     "data": {
      "text/plain": [
       "{'n_estimators': 200,\n",
       " 'min_samples_split': 200,\n",
       " 'min_samples_leaf': 1,\n",
       " 'max_features': 'sqrt',\n",
       " 'max_depth': 20,\n",
       " 'bootstrap': False}"
      ]
     },
     "execution_count": 47,
     "metadata": {},
     "output_type": "execute_result"
    }
   ],
   "source": [
    "#check the best params\n",
    "rf_tuned.best_params_"
   ]
  },
  {
   "cell_type": "code",
   "execution_count": 48,
   "metadata": {
    "ExecuteTime": {
     "end_time": "2024-10-19T17:01:40.061739Z",
     "start_time": "2024-10-19T17:01:38.029813Z"
    },
    "colab": {
     "base_uri": "https://localhost:8080/"
    },
    "executionInfo": {
     "elapsed": 3273,
     "status": "ok",
     "timestamp": 1644235803311,
     "user": {
      "displayName": "Siddhi Jadhav",
      "photoUrl": "https://lh3.googleusercontent.com/a/default-user=s64",
      "userId": "08402691859170607175"
     },
     "user_tz": -330
    },
    "id": "HPBBpSSj1OWQ",
    "outputId": "e36a934c-11f9-40b7-b49c-bf9dabf8e17c"
   },
   "outputs": [
    {
     "name": "stdout",
     "output_type": "stream",
     "text": [
      "Tuned model accuracy: 0.6523269702876687\n"
     ]
    }
   ],
   "source": [
    "#load the saved model and predict on the test data\n",
    "tunedmodel_rf = pickle.load(open(\"trained_models/tunedmodel_rf\", 'rb'))\n",
    "\n",
    "Y_test_predict_tuned = tunedmodel_rf.predict(X_test)\n",
    "print(\"Tuned model accuracy:\",np.sqrt(mean_squared_error(y_test, Y_test_predict_tuned)))"
   ]
  },
  {
   "cell_type": "markdown",
   "metadata": {
    "id": "bTGJ-G0u1OWQ"
   },
   "source": [
    "***"
   ]
  },
  {
   "cell_type": "markdown",
   "metadata": {
    "id": "Rki5QIIX1OWQ"
   },
   "source": [
    "##### fit a GBM model"
   ]
  },
  {
   "cell_type": "code",
   "execution_count": 49,
   "metadata": {
    "ExecuteTime": {
     "end_time": "2024-10-19T17:01:41.211969Z",
     "start_time": "2024-10-19T17:01:40.163591Z"
    },
    "id": "vJoINC1J1OWQ"
   },
   "outputs": [],
   "source": [
    "from sklearn.ensemble import GradientBoostingRegressor  #GBM algorithm\n",
    "gbm_base = GradientBoostingRegressor(\n",
    "    max_depth=2,\n",
    "    n_estimators=3,\n",
    "    learning_rate=1.0)\n",
    "\n",
    "gbm_base.fit(X_train,y_train)\n",
    "\n",
    "#save the GBM model\n",
    "pickle.dump(gbm_base, open(\"trained_models/basemodel_GBM\", 'wb'))"
   ]
  },
  {
   "cell_type": "code",
   "execution_count": 50,
   "metadata": {
    "ExecuteTime": {
     "end_time": "2024-10-19T17:01:41.363204Z",
     "start_time": "2024-10-19T17:01:41.301844Z"
    },
    "colab": {
     "base_uri": "https://localhost:8080/"
    },
    "executionInfo": {
     "elapsed": 19,
     "status": "ok",
     "timestamp": 1644235805024,
     "user": {
      "displayName": "Siddhi Jadhav",
      "photoUrl": "https://lh3.googleusercontent.com/a/default-user=s64",
      "userId": "08402691859170607175"
     },
     "user_tz": -330
    },
    "id": "R1W1ekUw1OWQ",
    "outputId": "56c7078f-d7fc-4d03-f38c-9b0935ab3bd3"
   },
   "outputs": [
    {
     "name": "stdout",
     "output_type": "stream",
     "text": [
      "Base model GBM accuracy: 0.7004418131911399\n"
     ]
    }
   ],
   "source": [
    "#load the saved model and predict on the test data\n",
    "basemodel_GBM = pickle.load(open(\"trained_models/basemodel_GBM\", 'rb'))\n",
    "\n",
    "Y_test_predict_tuned = basemodel_GBM.predict(X_test)\n",
    "print(\"Base model GBM accuracy:\",np.sqrt(mean_squared_error(y_test, Y_test_predict_tuned)))"
   ]
  },
  {
   "cell_type": "code",
   "execution_count": null,
   "metadata": {
    "ExecuteTime": {
     "end_time": "2024-10-19T17:01:41.478754Z",
     "start_time": "2024-10-19T17:01:41.463676Z"
    },
    "id": "iMRo9dQb1OWQ"
   },
   "outputs": [],
   "source": []
  }
 ],
 "metadata": {
  "colab": {
   "collapsed_sections": [
    "h56s_ijW1OWK"
   ],
   "name": "Ensemble_Machine_Learning_Project_All_State_Insurance_Claims_Severity_Prediction.ipynb",
   "provenance": []
  },
  "kernelspec": {
   "display_name": "Python 3 (ipykernel)",
   "language": "python",
   "name": "python3"
  },
  "language_info": {
   "codemirror_mode": {
    "name": "ipython",
    "version": 3
   },
   "file_extension": ".py",
   "mimetype": "text/x-python",
   "name": "python",
   "nbconvert_exporter": "python",
   "pygments_lexer": "ipython3",
   "version": "3.10.11"
  }
 },
 "nbformat": 4,
 "nbformat_minor": 4
}
